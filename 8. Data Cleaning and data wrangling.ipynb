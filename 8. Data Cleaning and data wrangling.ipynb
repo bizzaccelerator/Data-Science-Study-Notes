{
 "cells": [
  {
   "cell_type": "markdown",
   "metadata": {},
   "source": [
    "# Data Cleaning and Data Wrangling"
   ]
  },
  {
   "cell_type": "markdown",
   "metadata": {},
   "source": [
    "Data wrangling is the process of transforming and structuring data from one raw form into a desired format with the intent of improving data quality and making it more consumable and useful for analytics or machine learning.\n",
    "\n",
    "Data wrangling prepares your data for the data mining process, which is the stage of analysis when you look for patterns or relationships in your dataset that can guide actionable insights.\n",
    "\n",
    "Your data analysis can only be as good as the data itself. If you analyze bad data, it's likely that you'll draw ill-informed conclusions and won't be able to make reliable, data-informed decisions.\n",
    "\n",
    "With wrangled data, you can feel more confident in the conclusions you draw from your data. You'll get results much faster, with less chance of errors or missed opportunities."
   ]
  },
  {
   "cell_type": "markdown",
   "metadata": {},
   "source": [
    "### Content\n",
    "- "
   ]
  }
 ],
 "metadata": {
  "language_info": {
   "name": "python"
  }
 },
 "nbformat": 4,
 "nbformat_minor": 2
}
