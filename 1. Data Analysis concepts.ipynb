{
 "cells": [
  {
   "attachments": {},
   "cell_type": "markdown",
   "metadata": {},
   "source": [
    "# __Data Analysis__"
   ]
  },
  {
   "attachments": {},
   "cell_type": "markdown",
   "metadata": {},
   "source": [
    "Classical statistics focused almost exclusively on _inference_, a sometimes complex set of procedures for drawing conclusions about a large population based on small samples. __Data Analysis__ includes statistical inferences as just one component, linking to engineering and computer science and business domains."
   ]
  },
  {
   "attachments": {},
   "cell_type": "markdown",
   "metadata": {},
   "source": [
    "Is the procesos for __inspecting, cleansing, tranforming__ and _modeling data_ with the goal of _discovering useful information_, informing conclusion and __supporting decision-making__.\n",
    "\n",
    "inspecting, cleansing, tranforming  => python (pandas) <br>\n",
    "modeling data => inferential statistics (pandas, matplotlib / seabon) <br>\n",
    "discovering useful information => patterns from the data (visualization tools) <br>\n",
    "supponting decision making => dashboards (dash) <br>"
   ]
  },
  {
   "attachments": {},
   "cell_type": "markdown",
   "metadata": {},
   "source": [
    "## The Data analysis process \n",
    "1. _Getting the data_ (SQL, API, file formats - csv, xlsx, etc. -) <br>\n",
    "2. _Data cleaning_ (Missing values and empty data, data imputation, incorrect types, outliers, statistical sanitization) <br>\n",
    "3. _Data Wrangling_ (rearrange and reshape your data! Hierarchical data, Handling categorical data, reshaping and transforming structures, indexing data, or merging/combining/joining data) <br>\n",
    "4. _Analysis_ (Extracting patterns from data! Exploring, Building statistical models, visualizations and representation, Correlation vs causation analysis, Hyothesis testing, Statistical Analysis, and reporting ) <br>\n",
    "5. _Action_ (Building ML models, Dashboard and reporting, Building ETL pipelines, Feature engineering, Decision making and real-life test)"
   ]
  },
  {
   "attachments": {},
   "cell_type": "markdown",
   "metadata": {},
   "source": [
    "## Python Ecosystem\n",
    "_Pandas:_ For data analysis.\n",
    "_Matplotlib:_ foundational library for visualization. <br>\n",
    "_Numpy:_ The numeric library that serves as the fundation of all calculation in Python. <br>\n",
    "_Seaborn:_ A statistical visualization tool built on top of matplotlib. <br>\n",
    "_Statsmodel:_ A library with many advanced statistical functions. <br>\n",
    "_Scipy:_ Advanced scientific computing, including functions for optimization, linear algebra, image processing and more. <br>\n",
    "_Scikit-Learn:_ The most popular machine learning library for python (not deep learning) <br>\n",
    "\n",
    "Among many other tools for specific use-cases."
   ]
  },
  {
   "attachments": {},
   "cell_type": "markdown",
   "metadata": {},
   "source": [
    "## Rectangular Data\n",
    "This is the general term for a two dimensional matrix with rows indicating records (cases or observations) and columns indicating features (variables). It is typicaly used in Data Science as a frame of reference for an analysis; _data frame_ is the specific format in R and Python for storing data. However, data doesn't always start in this form: unstructured data (e.g., text) must be processed and manipulated so that it can be represented as a set of features in the rectangular data. Data in data bases must be pulled an put into a single table for most data analysis and modeling tasks.\n",
    "\n",
    "Terminology for rectangular data can be confusing. Statisticians and data scientists use different terms for the same thing. For a statistician, predictor variables are used in a model to predict a response or dependent variable. For a Data scientist, features are used to predict a target. One synonim is particularly confusing: computer scientist will use the term _sample_ for a single row; a _sample_ to a statistician means a collection of rows."
   ]
  },
  {
   "attachments": {},
   "cell_type": "markdown",
   "metadata": {},
   "source": [
    "## Nonrectangular data structures.\n",
    "There are other data structures besides rectangular data. Time series data records successive measurements of the same variable. Its the raw material for the statistical forecasting methods,and it is also a key component of the data produced by devices - The Internet of things.\n",
    "\n",
    "Spatial data structures, which are used in mapping and location analytics, are more complex and varied than rectangular data sutructures. In the object representation, the focus of the data is an object (e.g., a huose) and its spatial coordinates. The field view, by contrast, focuses on small units of space and the value of a relevant metric (pixel brighteness, for example).\n",
    "\n",
    "Graphs (or networks) data structures are used to represent physical, social, and abstract relationships, and are uselful for certain types of problems,such as network optimization and recommender systems. For example, a graph of a social network may represent connections between people on the network. Distribution hubs connected by roads are an example of a physical network. "
   ]
  }
 ],
 "metadata": {
  "kernelspec": {
   "display_name": "zoom",
   "language": "python",
   "name": "python3"
  },
  "language_info": {
   "name": "python",
   "version": "3.9.16"
  },
  "orig_nbformat": 4,
  "vscode": {
   "interpreter": {
    "hash": "b11b869b993da9fb89d9f0f287830444817e260015089d0cac69cf0d7ea70f5e"
   }
  }
 },
 "nbformat": 4,
 "nbformat_minor": 2
}
