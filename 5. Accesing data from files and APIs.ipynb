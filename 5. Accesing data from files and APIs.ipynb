{
 "cells": [
  {
   "cell_type": "markdown",
   "metadata": {},
   "source": [
    "# Data Loading, Storage, and File Formats"
   ]
  },
  {
   "cell_type": "markdown",
   "metadata": {},
   "source": [
    "Accessing data and getting it into your script is the first step of any data project. Here it is covered several ways of importing data from files and other sources into a python application, as weel as ways to export data to files. \n",
    "\n",
    "Input and Output typically falls into a few main categories: rerading text files and other more efficient on-disk format, loading data from databases, and interacting with network sources like web APIs."
   ]
  },
  {
   "cell_type": "markdown",
   "metadata": {},
   "source": [
    "### Content\n",
    "- 1. Reading and writing data in text formats.\n",
    "    - Handling Plain text.\n",
    "    - Getting Tabular data from a text file.\n",
    "- 2. Loading data from databases.\n",
    "- 3. Interacting with network sources like web APIs."
   ]
  },
  {
   "cell_type": "code",
   "execution_count": 8,
   "metadata": {},
   "outputs": [],
   "source": [
    "import pandas as pd"
   ]
  },
  {
   "cell_type": "markdown",
   "metadata": {},
   "source": [
    "## 1. Reading and writing data in text formats"
   ]
  },
  {
   "cell_type": "markdown",
   "metadata": {},
   "source": [
    "### Handling Plain text \n",
    "\n",
    "Text can arrive in different formats. Sometimes plain text `(.txt)` is of interest. Text files are perhaps the most common file type you'll encounter. Luckily, Python doesn't require a special library for processing it; you can simply rely on the methods of the file object returned by the `*open( )*` function. \n",
    "\n",
    "To Python, a text file is a sequence of string objects, each of those is one line of text file - that is, a sequence of character ending in a nondisplayed new line character `(\\n)` or hard return. \n",
    "\n",
    "Please take a look to the following example. To humans, the passage consist of four paragraphs that includes several sentences; however, to Python, the passage includes four nonempty lines and three blank lines between them. "
   ]
  },
  {
   "cell_type": "code",
   "execution_count": 5,
   "metadata": {},
   "outputs": [
    {
     "name": "stdout",
     "output_type": "stream",
     "text": [
      "The Marine Mammal Center (TMMC) is a private, non-profit U.S. organization that was established in 1975 for the purpose of rescuing, rehabilitating and releasing marine mammals who are injured, ill or abandoned. It was founded in Sausalito, California, by Lloyd Smalley, Pat Arrigoni and Paul Maxwell. Since 1975, TMMC has rescued over 24,000 marine mammals. \n",
      "\n",
      "It also serves as a center for environmental research and education regarding marine mammals, namely cetaceans (whales, dolphins and porpoises), pinnipeds (seals, fur seals, walruses and sea lions), otters and sirenians (manatees and dugongs). \n",
      "\n",
      "Marine mammal abandonment refers to maternal separation; pups that have been separated from their mother before weaning. At the center, they receive specialized veterinary care: they are diagnosed, treated, rehabilitated and ideally, released back into the wild. \n",
      "\n",
      "Animals in need of assistance are usually identified by a member of the public who has contacted the center. These animals represent the following major species: California sea lions, northern elephant seals, Pacific harbor seals, northern fur seals, Guadalupe fur seals, Hawaiian monk seals, and southern sea otters. On a few occasions, TMMC has taken in Steller sea lions and bottlenose/Pacific white-sided dolphins. The only non-mammals that TMMC takes in are sea turtles.\n"
     ]
    }
   ],
   "source": [
    "# Reading a text file in Python \n",
    "\n",
    "path = r\"C:\\Users\\jober\\OneDrive\\Desktop\\Data Science\\Data Science - Study notes\\Data_used\\Marine.txt\"\n",
    "\n",
    "with open(path, 'r') as f:  # The first artgument 'path' specify where the file is located, the second controls how the file will be used, 'r' for read only.\n",
    "    content = f.read()      # The read method reads the entire content of the file object.\n",
    "print(content)\n",
    "\n",
    "# the with keyword is used to ensure that the file object is properly closed when the action is performed. "
   ]
  },
  {
   "cell_type": "markdown",
   "metadata": {},
   "source": [
    "Rather than print the lines, you can send them to a list using a list comprenhension:"
   ]
  },
  {
   "cell_type": "code",
   "execution_count": 7,
   "metadata": {},
   "outputs": [
    {
     "data": {
      "text/plain": [
       "['The Marine Mammal Center (TMMC) is a private, non-profit U.S. organization that was established in 1975 for the purpose of rescuing, rehabilitating and releasing marine mammals who are injured, ill or abandoned. It was founded in Sausalito, California, by Lloyd Smalley, Pat Arrigoni and Paul Maxwell. Since 1975, TMMC has rescued over 24,000 marine mammals.',\n",
       " 'It also serves as a center for environmental research and education regarding marine mammals, namely cetaceans (whales, dolphins and porpoises), pinnipeds (seals, fur seals, walruses and sea lions), otters and sirenians (manatees and dugongs).',\n",
       " 'Marine mammal abandonment refers to maternal separation; pups that have been separated from their mother before weaning. At the center, they receive specialized veterinary care: they are diagnosed, treated, rehabilitated and ideally, released back into the wild.',\n",
       " 'Animals in need of assistance are usually identified by a member of the public who has contacted the center. These animals represent the following major species: California sea lions, northern elephant seals, Pacific harbor seals, northern fur seals, Guadalupe fur seals, Hawaiian monk seals, and southern sea otters. On a few occasions, TMMC has taken in Steller sea lions and bottlenose/Pacific white-sided dolphins. The only non-mammals that TMMC takes in are sea turtles.']"
      ]
     },
     "execution_count": 7,
     "metadata": {},
     "output_type": "execute_result"
    }
   ],
   "source": [
    "# Creating a list from a text file in Python \n",
    "\n",
    "path = r\"C:\\Users\\jober\\OneDrive\\Desktop\\Data Science\\Data Science - Study notes\\Data_used\\Marine.txt\"\n",
    "\n",
    "with open(path, 'r') as f:  \n",
    "    lst = [line.strip() for line in f if line.strip()]\n",
    "\n",
    "lst"
   ]
  },
  {
   "cell_type": "markdown",
   "metadata": {},
   "source": [
    "From this point onwards, you can use any method available for processing strings in Python, so you canorganize it a tabular form. "
   ]
  },
  {
   "cell_type": "markdown",
   "metadata": {},
   "source": [
    "### Getting Tabular data from a text file"
   ]
  },
  {
   "cell_type": "markdown",
   "metadata": {},
   "source": [
    "Tabular data is easy to manage with `pandas`. Pandas features a number of functions for reading tabular data as a DataFrame object. Most of the parsing functions in pandas use a character as a delimiter between  columns. However, in some cases, a table might not have a fixed delimiter, using whitespace or some other pattern to separate fields. "
   ]
  },
  {
   "cell_type": "code",
   "execution_count": 10,
   "metadata": {},
   "outputs": [
    {
     "data": {
      "text/html": [
       "<div>\n",
       "<style scoped>\n",
       "    .dataframe tbody tr th:only-of-type {\n",
       "        vertical-align: middle;\n",
       "    }\n",
       "\n",
       "    .dataframe tbody tr th {\n",
       "        vertical-align: top;\n",
       "    }\n",
       "\n",
       "    .dataframe thead th {\n",
       "        text-align: right;\n",
       "    }\n",
       "</style>\n",
       "<table border=\"1\" class=\"dataframe\">\n",
       "  <thead>\n",
       "    <tr style=\"text-align: right;\">\n",
       "      <th></th>\n",
       "      <th>MemStartDate</th>\n",
       "      <th>TotalPrice</th>\n",
       "      <th>UnitPrice</th>\n",
       "    </tr>\n",
       "  </thead>\n",
       "  <tbody>\n",
       "    <tr>\n",
       "      <th>0</th>\n",
       "      <td>2007-07-13</td>\n",
       "      <td>50.5</td>\n",
       "      <td>5.5</td>\n",
       "    </tr>\n",
       "    <tr>\n",
       "      <th>1</th>\n",
       "      <td>2006-01-13</td>\n",
       "      <td>10.4</td>\n",
       "      <td>1.4</td>\n",
       "    </tr>\n",
       "    <tr>\n",
       "      <th>2</th>\n",
       "      <td>2010-08-13</td>\n",
       "      <td>3.5</td>\n",
       "      <td>0.5</td>\n",
       "    </tr>\n",
       "  </tbody>\n",
       "</table>\n",
       "</div>"
      ],
      "text/plain": [
       "  MemStartDate  TotalPrice  UnitPrice\n",
       "0   2007-07-13        50.5        5.5\n",
       "1   2006-01-13        10.4        1.4\n",
       "2   2010-08-13         3.5        0.5"
      ]
     },
     "execution_count": 10,
     "metadata": {},
     "output_type": "execute_result"
    }
   ],
   "source": [
    "# Example of how to use a space as delimiter between columns. \n",
    "path = r\"C:\\Users\\jober\\OneDrive\\Desktop\\Data Science\\Data Science - Study notes\\Data_used\\Price_table.txt\"\n",
    "table = pd.read_table(path, sep='\\s+') # The term (\\s+) is a regular expression used to indicates the elements after a space.\n",
    "table"
   ]
  },
  {
   "cell_type": "markdown",
   "metadata": {},
   "source": []
  }
 ],
 "metadata": {
  "kernelspec": {
   "display_name": "base",
   "language": "python",
   "name": "python3"
  },
  "language_info": {
   "codemirror_mode": {
    "name": "ipython",
    "version": 3
   },
   "file_extension": ".py",
   "mimetype": "text/x-python",
   "name": "python",
   "nbconvert_exporter": "python",
   "pygments_lexer": "ipython3",
   "version": "3.9.13"
  }
 },
 "nbformat": 4,
 "nbformat_minor": 2
}
