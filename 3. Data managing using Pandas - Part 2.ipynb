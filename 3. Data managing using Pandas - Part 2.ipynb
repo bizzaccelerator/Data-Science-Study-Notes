{
 "cells": [
  {
   "attachments": {},
   "cell_type": "markdown",
   "metadata": {},
   "source": [
    "# Managing data with Pandas.\n",
    "\n",
    "## (Part 2)"
   ]
  },
  {
   "attachments": {},
   "cell_type": "markdown",
   "metadata": {},
   "source": [
    "One of the most common task involving data anlysis is extracting data into subsets of interest. Even though Pandas sintax for selecting data from a dataset is quite complex, it has strong capabilities for selecting particular rows and/or columns from a DataFrame or selecting values from a Series. \n",
    "\n",
    "Different types of subset selections in Pandas include _selecting specific columns_, _selecting specific rows_, and _selecting rows and columns simultaniously_. This task can be done by using label and by integer location. On the one hand, using labels means explicitly defining the column's name we are interested in. On the other, proceding with integer location implies using numbers between 0 and `n-1` to identify the desired row or column, where n is the total numbers of rows/column in the object.The official pandas documentation refers to integer location as position, however interger location is more explicit. \n",
    "\n",
    "__Indexing__ is another, more technical, term that reffers to __*subset selection*__. While the first one is more wildly used in documentation, the second is more descriptive of what's actually happening. In order to do that, we will be using three indexers [ ], _loc_, and _iloc_; which have different rules for how they work.\n",
    "\n",
    "In this chapter we will be exploring how to handle and prepare data for later visualization through querying, aggregating, filtering and cleaning operations. "
   ]
  },
  {
   "attachments": {},
   "cell_type": "markdown",
   "metadata": {},
   "source": [
    "### Content\n",
    "In the second part of this introduction to pandas we are covering the following content:\n",
    "\n",
    "- Querying data.\n",
    "- Aggregating Methods.\n",
    "- Filering the data.\n",
    "- Data Cleaning. "
   ]
  },
  {
   "attachments": {},
   "cell_type": "markdown",
   "metadata": {},
   "source": [
    "## 2.1. Querying the data (Extracting subsets)\n",
    "\n",
    "__Terminology:__ When brackets are placed directly after a DataFrame/Series name, the term just the backets will be used to differentiate them from the brackets after _loc_ and _iloc_. \n",
    "\n",
    "`NOTE:` You must be carefull withusing brackets instead of paretheses. In Python, the brackets are a universal operator for selecting subsets of data regarless of the type of object, so you need to avoid the mistake of a appending parentheses to _loc_ or _iloc_. These are NOT methods, but are accessed in the same manner through dot notation. "
   ]
  },
  {
   "attachments": {},
   "cell_type": "markdown",
   "metadata": {},
   "source": [
    "### Using just the brackets"
   ]
  },
  {
   "attachments": {},
   "cell_type": "markdown",
   "metadata": {},
   "source": []
  }
 ],
 "metadata": {
  "language_info": {
   "name": "python"
  },
  "orig_nbformat": 4
 },
 "nbformat": 4,
 "nbformat_minor": 2
}
