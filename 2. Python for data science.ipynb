{
 "cells": [
  {
   "cell_type": "markdown",
   "metadata": {},
   "source": [
    "# __¿Why Python as a tool?__\n",
    "\n",
    "Python has several features that make it well suited for learning (and doing) data science:\n",
    "- It 's open source, which means it is free.\n",
    "- It works similarly in most applications, so it’s a predictable language which make it desirable in programming.\n",
    "- It’s relatively simple to write and to maintain (and, in particular, to understand). Due to its pragmatism it is widely accepted by programmers. \n",
    "- It’s useful in many applications. It’s been designed as a general-purpose programming language, then it can cooperate with a variety of other software components, making it the right language for gluing together code written in other languages.\n",
    "- It’s simpler, faster to process (both for humans and for tools). This is a very high-level language (VHLL), that affords high programmer productivity, making Python a strong development tool.\n",
    "- It’s an object-oriented programming language that allows you some functional programming procedural style too. \n",
    "- It has lots of useful data science–related libraries. \n"
   ]
  },
  {
   "cell_type": "markdown",
   "metadata": {},
   "source": [
    "It is important to differentiate the Python implementation from the language itself. The language implementation is a system for executing the computer programs, and Python uses the _interpretation approach_, where the program is read as input by an interpreter, which performs the actions written in the program. \n",
    "\n",
    "At the time of this writing, the __Classic Python__ - also known as CPython, and often known as just Python - is the most up-to-date, solid and complete production-quality implementation of the language. CPython is a bytecode compiler, interpreter, and set of built-in and optional modules, all coded in standard C. \n",
    "\n",
    "Another interesting implementation of CPython is IPython, which enhances CPython interactive interpreter to make it more powerful and convenient. IPython has been refactored, now morphed into __*Jupyter Notebooks*__, an interactive programming environment that, among snippets of code, also lets you embed commentary in literate programming style and show the output of executing code. \n",
    "\n",
    "There is more to Python programming than just the language. There are plenty of libraries and extensions that suit almost any application. Most of the modules are fully functional in different versions of Python, and let code access functionality supplied by the underlying operating system or other software components such as graphical user interfaces (GUI’s), databases, and networks.Extensions also afford great speed in computationally intensive tasks such as XML parsing and numeric array computations, which is specially suitable for Data Science.\n",
    "\n",
    "Being proficient in Python up to a fluent software developer standar is not needed to process data successfully. To be a high performer Data Scientist / Data Analyst, it’s recommended to get a solid foundation of the basis, understood as the lexical structure, data types, variables, and control flow statements and functions.\n",
    "\n",
    "The distribution of Python I recommend the most is Anaconda. This distribution package compiles the Python standard libraries, some external extensions and the IPython implementation, so you are ready to tackle data analysis tasks. \n",
    "\n",
    "When doing data science with Python, your code is expected to be written in a _Pythonic way_, meaning it should be concise and efficient. Pythonic code is often associated with the use of list comprehensions, which are ways to implement useful data processing functionality with a single line of code.\n"
   ]
  },
  {
   "cell_type": "markdown",
   "metadata": {},
   "source": [
    "## Lexical structure.\n",
    "\n",
    "The lexical structure of a programming language is the set of basic rules that govern how you write programs in that language. It is the lowest-level syntax of the language, specifying such things as what variable names look like and how to denote comments. \n",
    "\n",
    "Each Python source file is a text file, and it indicates the sequence of lines, tokens, or statements. \n"
   ]
  },
  {
   "cell_type": "markdown",
   "metadata": {},
   "source": [
    "### Lines and Indentation.\n",
    "\n",
    "A Python program is a sequence of *logical lines*, each made up of one or more physical lines. A physical line may end with a comment indicated by a hashtag ( `#` ) sign placed any place not inside a string literal. All characters after the `#`, up to but excluding the line end, is the comment: Python ignores them. \n"
   ]
  },
  {
   "cell_type": "code",
   "execution_count": 6,
   "metadata": {},
   "outputs": [],
   "source": [
    "# This is a single-line comment \n",
    "# There are no double-line \\ \n",
    "# comments "
   ]
  },
  {
   "cell_type": "markdown",
   "metadata": {},
   "source": [
    "Python does not use delimiters, such as semicolon ( ; ) to denote the end of physical lines, the line end denotes the end of most statements. However, a logical line can be constituted by two or more physical lines but those must use a concatenator sign, such as backslash ( `\\` ), an open parenthesis ( `(` ), bracket ( `[` ) or brace ( `{` ).  Physical lines after the first one are called *continuation lines*. Triple-quoted string literals can also span physical lines but those are mostly used into sql applications and longer comments into special applications."
   ]
  },
  {
   "cell_type": "code",
   "execution_count": 12,
   "metadata": {},
   "outputs": [],
   "source": [
    "# This is the most simple single-physical line logical line. In this case, an assignment \n",
    "variable = 5\n",
    "\n",
    "# This is a two-physical line statement into a single logical line. \n",
    "# In this case it's an assignment of a data type called list to a variable.\n",
    "variable = [1, 2,\\\n",
    "            3, 4] # This is the continuation line."
   ]
  },
  {
   "cell_type": "markdown",
   "metadata": {},
   "source": []
  },
  {
   "cell_type": "markdown",
   "metadata": {},
   "source": [
    "## Python Ecosystem\n",
    "_Pandas:_ For data analysis.\n",
    "_Matplotlib:_ foundational library for visualization. <br>\n",
    "_Numpy:_ The numeric library that serves as the fundation of all calculation in Python. <br>\n",
    "_Seaborn:_ A statistical visualization tool built on top of matplotlib. <br>\n",
    "_Statsmodel:_ A library with many advanced statistical functions. <br>\n",
    "_Scipy:_ Advanced scientific computing, including functions for optimization, linear algebra, image processing and more. <br>\n",
    "_Scikit-Learn:_ The most popular machine learning library for python (not deep learning) <br>\n",
    "\n",
    "Among many other tools for specific use-cases."
   ]
  }
 ],
 "metadata": {
  "kernelspec": {
   "display_name": "base",
   "language": "python",
   "name": "python3"
  },
  "language_info": {
   "codemirror_mode": {
    "name": "ipython",
    "version": 3
   },
   "file_extension": ".py",
   "mimetype": "text/x-python",
   "name": "python",
   "nbconvert_exporter": "python",
   "pygments_lexer": "ipython3",
   "version": "3.9.13"
  },
  "orig_nbformat": 4
 },
 "nbformat": 4,
 "nbformat_minor": 2
}
