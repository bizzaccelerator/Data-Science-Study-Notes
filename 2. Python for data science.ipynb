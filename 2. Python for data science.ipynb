{
 "cells": [
  {
   "cell_type": "markdown",
   "metadata": {},
   "source": [
    "## __¿Why Python as a tool?__\n"
   ]
  },
  {
   "cell_type": "markdown",
   "metadata": {},
   "source": [
    "## Python Ecosystem\n",
    "_Pandas:_ For data analysis.\n",
    "_Matplotlib:_ foundational library for visualization. <br>\n",
    "_Numpy:_ The numeric library that serves as the fundation of all calculation in Python. <br>\n",
    "_Seaborn:_ A statistical visualization tool built on top of matplotlib. <br>\n",
    "_Statsmodel:_ A library with many advanced statistical functions. <br>\n",
    "_Scipy:_ Advanced scientific computing, including functions for optimization, linear algebra, image processing and more. <br>\n",
    "_Scikit-Learn:_ The most popular machine learning library for python (not deep learning) <br>\n",
    "\n",
    "Among many other tools for specific use-cases."
   ]
  }
 ],
 "metadata": {
  "language_info": {
   "name": "python"
  },
  "orig_nbformat": 4
 },
 "nbformat": 4,
 "nbformat_minor": 2
}
