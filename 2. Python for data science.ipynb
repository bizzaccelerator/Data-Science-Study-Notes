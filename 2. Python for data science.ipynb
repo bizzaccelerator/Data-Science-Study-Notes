{
 "cells": [
  {
   "cell_type": "markdown",
   "metadata": {},
   "source": [
    "# __¿Why Python as a tool?__\n",
    "\n",
    "Python has several features that make it well suited for learning (and doing) data science:\n",
    "- It 's open source, which means it is free.\n",
    "- It works similarly in most applications, so it’s a predictable language which make it desirable in programming.\n",
    "- It’s relatively simple to write and to maintain (and, in particular, to understand). Due to its pragmatism it is widely accepted by programmers. \n",
    "- It’s useful in many applications. It’s been designed as a general-purpose programming language, then it can cooperate with a variety of other software components, making it the right language for gluing together code written in other languages.\n",
    "- It’s simpler, faster to process (both for humans and for tools). This is a very high-level language (VHLL), that affords high programmer productivity, making Python a strong development tool.\n",
    "- It’s an object-oriented programming language that allows you some functional programming procedural style too. \n",
    "- It has lots of useful data science–related libraries. \n"
   ]
  },
  {
   "cell_type": "markdown",
   "metadata": {},
   "source": [
    "It is important to differentiate the Python implementation from the language itself. The language implementation is a system for executing the computer programs, and Python uses the _interpretation approach_, where the program is read as input by an interpreter, which performs the actions written in the program. \n",
    "\n",
    "At the time of this writing, the __Classic Python__ - also known as CPython, and often known as just Python - is the most up-to-date, solid and complete production-quality implementation of the language. CPython is a bytecode compiler, interpreter, and set of built-in and optional modules, all coded in standard C. \n",
    "\n",
    "Another interesting implementation of CPython is IPython, which enhances CPython interactive interpreter to make it more powerful and convenient. IPython has been refactored, now morphed into __*Jupyter Notebooks*__, an interactive programming environment that, among snippets of code, also lets you embed commentary in literate programming style and show the output of executing code. \n",
    "\n",
    "There is more to Python programming than just the language. There are plenty of libraries and extensions that suit almost any application. Most of the modules are fully functional in different versions of Python, and let code access functionality supplied by the underlying operating system or other software components such as graphical user interfaces (GUI’s), databases, and networks.Extensions also afford great speed in computationally intensive tasks such as XML parsing and numeric array computations, which is specially suitable for Data Science.\n",
    "\n",
    "Being proficient in Python up to a fluent software developer standar is not needed to process data successfully. To be a high performer Data Scientist / Data Analyst, it’s recommended to get a solid foundation of the basis, understood as the lexical structure, data types, variables, and control flow statements and functions.\n",
    "\n",
    "The distribution of Python I recommend the most is Anaconda. This distribution package compiles the Python standard libraries, some external extensions and the IPython implementation, so you are ready to tackle data analysis tasks. \n",
    "\n",
    "When doing data science with Python, your code is expected to be written in a _Pythonic way_, meaning it should be concise and efficient. Pythonic code is often associated with the use of list comprehensions, which are ways to implement useful data processing functionality with a single line of code.\n"
   ]
  },
  {
   "cell_type": "markdown",
   "metadata": {},
   "source": [
    "## Lexical structure\n",
    "\n",
    "The lexical structure of a programming language is the set of basic rules that govern how you write programs in that language. It is the lowest-level syntax of the language, specifying such things as what variable names look like and how to denote comments. \n",
    "\n",
    "Each Python source file is a text file, and it indicates the sequence of lines, tokens, or statements. \n"
   ]
  },
  {
   "cell_type": "markdown",
   "metadata": {},
   "source": [
    "### Lines and Indentation\n",
    "\n",
    "A Python program is a sequence of *logical lines*, each made up of one or more physical lines. A physical line may end with a comment indicated by a hashtag ( `#` ) sign placed any place not inside a string literal. All characters after the `#`, up to but excluding the line end, is the comment: Python ignores them. \n"
   ]
  },
  {
   "cell_type": "code",
   "execution_count": 21,
   "metadata": {},
   "outputs": [],
   "source": [
    "# This is a single-line comment \n",
    "# There are no double-line \\ \n",
    "# comments "
   ]
  },
  {
   "cell_type": "markdown",
   "metadata": {},
   "source": [
    "Python does not use delimiters, such as semicolon ( ; ) to denote the end of physical lines, the line end denotes the end of most statements. However, a logical line can be constituted by two or more physical lines but those must use a concatenator sign, such as backslash ( `\\` ), an open parenthesis ( `(` ), bracket ( `[` ) or brace ( `{` ).  Physical lines after the first one are called *continuation lines*. Triple-quoted string literals can also span physical lines but those are mostly used into sql applications and longer comments into special applications."
   ]
  },
  {
   "cell_type": "code",
   "execution_count": 13,
   "metadata": {},
   "outputs": [],
   "source": [
    "# This is the most simple single-physical line logical line. In this case, an assignment \n",
    "variable = 5\n",
    "\n",
    "# This is a two-physical line statement into a single logical line. \n",
    "# In this case it's an assignment of a data type called list to a variable.\n",
    "variable = [1, 2,\\\n",
    "            3, 4] # This is the continuation line."
   ]
  },
  {
   "cell_type": "markdown",
   "metadata": {},
   "source": [
    "Python uses _indentation_ to express the block structure of a program. Blocks of code (statements) are denoted with the usage of indentation rather than braces, or other begin/end delimiter. A __block of statements__ is a contiguous sequence of logical lines, all indented by the same amount, and a logical line with less indentation ends the block. All the statements in a block must have the same indentation, as must all the clauses in a compound statement. "
   ]
  },
  {
   "cell_type": "code",
   "execution_count": 22,
   "metadata": {},
   "outputs": [
    {
     "name": "stdout",
     "output_type": "stream",
     "text": [
      "This is the output: 15\n"
     ]
    }
   ],
   "source": [
    "# This is the first block of code. It is used to declare and initialize two variables\n",
    "num1 = 6\n",
    "num2 = 9\n",
    "\n",
    "# This is the second block of code.This one prints the output of the sum\n",
    "sum = num1 + num2\n",
    "print('This is the output:', sum)\n",
    "\n",
    "# In this case, both blocks have the same indentation. "
   ]
  },
  {
   "cell_type": "markdown",
   "metadata": {},
   "source": [
    "Python treats each tab as if it was up to 8 spaces, nevertheless the standard python style is to use four spaces per indentation level. __You must be careful because Python does not allow mixing tabs and spaces for indentation.__"
   ]
  },
  {
   "cell_type": "markdown",
   "metadata": {},
   "source": [
    "### Tokens\n",
    "\n",
    "These are the _elementary lexical components_ of a logical line. Tokens correspond to a substring of the logical line separated by whitespace. In the absence of whitespace, Python would parse them as a single longer identifier. The normal token types are _identifyers, keywords, operators, delimiters, and literals_.\n",
    "\n",
    "__Identifiers__\n",
    "\n",
    "These are names used to identify variables, functions, class names, modules or other objects. They always start with a letter or an underscore ( `_` ).Case is significant: lowercase and uppercase are distinct, and punctuation characters such as  `@` , `$` , and `!` are not allowed. \n",
    "\n",
    "Normal Python style is to start class names with an uppercase letter, and most other identifiers with lowercase  letters. Starting an identifier with a single leading underscore indicates by convention that the identifier is meant to be private. Starting an identifier with a double underscore indicates a strongly private identifier; if the identifier also ends with two trailing underscores, however, this means that it’s a language-defined special name. "
   ]
  },
  {
   "cell_type": "code",
   "execution_count": 3,
   "metadata": {},
   "outputs": [
    {
     "name": "stdout",
     "output_type": "stream",
     "text": [
      "This is a regular variable:  200 , This is a private variable:  100\n"
     ]
    }
   ],
   "source": [
    "first_variable = 200    #Variables are named with lowercase letters. \n",
    "                        # Composed dentifiers are chained with an underscore.\n",
    "_private_variable = 100 #This is a private variable\n",
    "\n",
    "print(\"This is a regular variable: \",first_variable,\", This is a private variable: \", _private_variable)"
   ]
  },
  {
   "cell_type": "markdown",
   "metadata": {},
   "source": [
    "__Delimiters__\n",
    "\n",
    "Python uses the following characters as delimiters and combinations as delimiters in various statements, expressions, and list, dictionary, and set literals and comprehensions, among other purposes. ` ’ ` and ` “ ` surround string literals."
   ]
  },
  {
   "cell_type": "code",
   "execution_count": 6,
   "metadata": {},
   "outputs": [
    {
     "ename": "SyntaxError",
     "evalue": "invalid syntax (1885509909.py, line 1)",
     "output_type": "error",
     "traceback": [
      "\u001b[1;36m  File \u001b[1;32m\"C:\\Users\\jober\\AppData\\Local\\Temp\\ipykernel_13568\\1885509909.py\"\u001b[1;36m, line \u001b[1;32m1\u001b[0m\n\u001b[1;33m    (   )   [   ]   {   }\u001b[0m\n\u001b[1;37m                ^\u001b[0m\n\u001b[1;31mSyntaxError\u001b[0m\u001b[1;31m:\u001b[0m invalid syntax\n"
     ]
    }
   ],
   "source": [
    "(   )   [   ]   {   }\n",
    ",   :   .   =   ;   @\n",
    "+=  -=  *=  /=  //= %=\n",
    "&=  |=  ^=  >>= <<= **="
   ]
  },
  {
   "cell_type": "markdown",
   "metadata": {},
   "source": [
    "__Keywords__\n",
    "\n",
    "These are 35 reserved identifiers in Python for syntactic uses, that why they are sometimes known as *reserved words*. As any other identifiers, those words are case sensitive. They can be all listed by importing the keyword model and printed as follows:"
   ]
  },
  {
   "cell_type": "code",
   "execution_count": 5,
   "metadata": {},
   "outputs": [
    {
     "name": "stdout",
     "output_type": "stream",
     "text": [
      "['False', 'None', 'True', '__peg_parser__', 'and', 'as', 'assert', 'async', 'await', 'break', 'class', 'continue', 'def', 'del', 'elif', 'else', 'except', 'finally', 'for', 'from', 'global', 'if', 'import', 'in', 'is', 'lambda', 'nonlocal', 'not', 'or', 'pass', 'raise', 'return', 'try', 'while', 'with', 'yield']\n"
     ]
    }
   ],
   "source": [
    "import keyword \n",
    "print(keyword.kwlist)\n"
   ]
  },
  {
   "cell_type": "markdown",
   "metadata": {},
   "source": [
    "__Literals__\n",
    "\n",
    "These are direct denotations in a program of a data value (a number, string, or container). The following are number and string literals in Python: \n"
   ]
  },
  {
   "cell_type": "code",
   "execution_count": 7,
   "metadata": {},
   "outputs": [
    {
     "data": {
      "text/plain": [
       "'Good\\nnight'"
      ]
     },
     "execution_count": 7,
     "metadata": {},
     "output_type": "execute_result"
    }
   ],
   "source": [
    "35             #Integer literal\n",
    "3.14           #Float literal\n",
    "1.0j           #Imaginary literal\n",
    "'Hello'        #String literal \n",
    "\"world\"        #Another string literal \n",
    "\"\"\"Good\n",
    "night\"\"\"       #Triple-quoted strin literal, spanning two lines"
   ]
  },
  {
   "cell_type": "markdown",
   "metadata": {},
   "source": [
    "Combining numbers and string literals with the appropriate delimiters, you can directly build many container types with those literals as values:\n"
   ]
  },
  {
   "cell_type": "code",
   "execution_count": 8,
   "metadata": {},
   "outputs": [
    {
     "data": {
      "text/plain": [
       "{2, 5, 6, 7, 'letra'}"
      ]
     },
     "execution_count": 8,
     "metadata": {},
     "output_type": "execute_result"
    }
   ],
   "source": [
    "[25,4.52,'Hello']       #This is a list\n",
    "[]                      #This is an empty list\n",
    "200,305,567             #This is a tuple\n",
    "(200,305,567)           #This is another tuple\n",
    "()                      #This is an empty tuple\n",
    "{'a':5, 'b':67}         #This is a dictionary\n",
    "{}                      #This is an empty dictionary\n",
    "{2, 5, 6, 7, 'letra'}   #This is a set\n",
    "#There is no literal to denote an empty set. "
   ]
  },
  {
   "cell_type": "markdown",
   "metadata": {},
   "source": [
    "__Operators__\n",
    "\n",
    "Python uses non alphanumeric characters and character combinations as operators. They generally act in conjunction of an expression, which is defined as a *phrase* of code evaluated by python to produce a value. The simplest expressions are literals and identifiers, and you can build other expressions by joining subexpressions with the operators and/or delimiters. The simplest operators are those who represent simple math operations: \n"
   ]
  },
  {
   "cell_type": "code",
   "execution_count": 16,
   "metadata": {},
   "outputs": [
    {
     "name": "stdout",
     "output_type": "stream",
     "text": [
      "The result of the sum is:  18\n",
      "The result of the subtraction is:  12\n",
      "The result of the product is:  45\n",
      "The result of the division is:  5.0\n"
     ]
    }
   ],
   "source": [
    "#These are variables\n",
    "a=15\n",
    "b=3       \n",
    "\n",
    "# Then we use operators as follows\n",
    "\n",
    "# Sum:\n",
    "c = a + b\n",
    "# Subtraction:\n",
    "d = a - b\n",
    "# Product \n",
    "e = a * b\n",
    "# Division\n",
    "f = a / b\n",
    "\n",
    "print('The result of the sum is: ', c)\n",
    "print('The result of the subtraction is: ', d)\n",
    "print('The result of the product is: ', e)\n",
    "print('The result of the division is: ', f) # The result of a division is always a float"
   ]
  },
  {
   "cell_type": "markdown",
   "metadata": {},
   "source": [
    "### Statements \n",
    "\n",
    "There are two types of statements, single and compound statements. \n",
    "\n",
    "__Simple Statements__\n",
    "\n",
    "A simple statement is one that contains no other statements. It lies entirely within a logical line. In Python, you may place more than one simple statement in a logical line, with a semicolon (` ; `) as a separator. However, it is recommended to use one simple statement per line to increase readability. Any expression can be on its own as a simple statement. \n",
    "\n",
    "An *assignment* is a simple statement that assigns values to variables. We use the ` = ` operator, and can never be part of an expression. In that case, the ` := ` (walrus) operator is needed.\n"
   ]
  },
  {
   "cell_type": "code",
   "execution_count": 1,
   "metadata": {},
   "outputs": [],
   "source": [
    "# This is a simple statement\n",
    "variable = 345.76j"
   ]
  },
  {
   "cell_type": "markdown",
   "metadata": {},
   "source": [
    "__Compound Statements__\n",
    "\n",
    "A compound statement contains one or more other statements and controls it's execution. These statements are also known as blocks. It has one or more *clauses*, aligned at the same indentation. Each clause has a *header* starting with a keyword and ending with a colon ( : ), followed by a *body*, which is a sequence of one or more statements, are on separate logical lines after the header line, indented four spaces rightward."
   ]
  },
  {
   "cell_type": "code",
   "execution_count": 2,
   "metadata": {},
   "outputs": [
    {
     "name": "stdout",
     "output_type": "stream",
     "text": [
      "This is the  0 iteration of the loop\n",
      "This is the  1 iteration of the loop\n",
      "This is the  2 iteration of the loop\n",
      "This is the  3 iteration of the loop\n",
      "This is the  4 iteration of the loop\n",
      "This is the  5 iteration of the loop\n",
      "This is the  6 iteration of the loop\n",
      "This is the  7 iteration of the loop\n",
      "This is the  8 iteration of the loop\n",
      "This is the  9 iteration of the loop\n"
     ]
    }
   ],
   "source": [
    "# This is a compound statement \n",
    "for i in range(10):\n",
    "    print(\"This is the \", i, \"iteration of the loop\")"
   ]
  },
  {
   "cell_type": "markdown",
   "metadata": {},
   "source": [
    "## Data Types\n",
    "\n"
   ]
  },
  {
   "cell_type": "markdown",
   "metadata": {},
   "source": [
    "## Python Ecosystem\n",
    "_Pandas:_ For data analysis.\n",
    "_Matplotlib:_ foundational library for visualization. <br>\n",
    "_Numpy:_ The numeric library that serves as the fundation of all calculation in Python. <br>\n",
    "_Seaborn:_ A statistical visualization tool built on top of matplotlib. <br>\n",
    "_Statsmodel:_ A library with many advanced statistical functions. <br>\n",
    "_Scipy:_ Advanced scientific computing, including functions for optimization, linear algebra, image processing and more. <br>\n",
    "_Scikit-Learn:_ The most popular machine learning library for python (not deep learning) <br>\n",
    "\n",
    "Among many other tools for specific use-cases."
   ]
  }
 ],
 "metadata": {
  "kernelspec": {
   "display_name": "base",
   "language": "python",
   "name": "python3"
  },
  "language_info": {
   "codemirror_mode": {
    "name": "ipython",
    "version": 3
   },
   "file_extension": ".py",
   "mimetype": "text/x-python",
   "name": "python",
   "nbconvert_exporter": "python",
   "pygments_lexer": "ipython3",
   "version": "3.9.13"
  },
  "orig_nbformat": 4
 },
 "nbformat": 4,
 "nbformat_minor": 2
}
