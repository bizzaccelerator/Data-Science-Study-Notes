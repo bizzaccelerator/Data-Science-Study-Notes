{
 "cells": [
  {
   "cell_type": "markdown",
   "metadata": {},
   "source": [
    "# __¿Why Python as a tool?__\n",
    "\n",
    "It is important to differentiate the Python implementation from the language itself. The language implementation is a system for executing the computer programs, and Python uses the _interpretation approach_, where the program is read as input by an interpreter, which performs the actions written in the program. Here you will learn the basic concepts of Python as a programming language. Let's begin"
   ]
  },
  {
   "cell_type": "markdown",
   "metadata": {},
   "source": [
    "### Content\n",
    "- Lexical structure\n",
    "    - Lines and Indentation\n",
    "    - Tokens\n",
    "    - Statements\n",
    "- Data Types\n",
    "    - Numbers\n",
    "    - Strings\n",
    "    - Strings (str)\n",
    "    - Tuples\n",
    "    - Lists \n",
    "    - Sets\n",
    "    - Dictionaries \n",
    "- Variables and other references\n",
    "- Control Flow Statements\n",
    "    - The _if_ Statement\n",
    "    - The _while_ statement\n",
    "    - The _for_ Statement\n",
    "    - The _break_ and _continue_ statements\n",
    "- Functions\n",
    "    - Defining Functions: The _def_ statement\n",
    "    - Parameters\n",
    "    - Attributes of Function objects\n",
    "    - Function Annotations\n",
    "    - The return Statement\n",
    "    - Lambda Expressions\n",
    "- Python Ecosystem"
   ]
  },
  {
   "cell_type": "markdown",
   "metadata": {},
   "source": [
    "Python has several features that make it well suited for learning (and doing) data science:\n",
    "- It 's open source, which means it is free.\n",
    "- It works similarly in most applications, so it’s a predictable language which make it desirable in programming.\n",
    "- It’s relatively simple to write and to maintain (and, in particular, to understand). Due to its pragmatism it is widely accepted by programmers. \n",
    "- It’s useful in many applications. It’s been designed as a general-purpose programming language, then it can cooperate with a variety of other software components, making it the right language for gluing together code written in other languages.\n",
    "- It’s simpler, faster to process (both for humans and for tools). This is a very high-level language (VHLL), that affords high programmer productivity, making Python a strong development tool.\n",
    "- It’s an object-oriented programming language that allows you some functional programming procedural style too. \n",
    "- It has lots of useful data science–related libraries. "
   ]
  },
  {
   "cell_type": "markdown",
   "metadata": {},
   "source": [
    "At the time of this writing, the __Classic Python__ - also known as CPython, and often known as just Python - is the most up-to-date, solid and complete production-quality implementation of the language. CPython is a bytecode compiler, interpreter, and set of built-in and optional modules, all coded in standard C. \n",
    "\n",
    "Another interesting implementation of CPython is IPython, which enhances CPython interactive interpreter to make it more powerful and convenient. IPython has been refactored, now morphed into __*Jupyter Notebooks*__, an interactive programming environment that, among snippets of code, also lets you embed commentary in literate programming style and show the output of executing code. \n",
    "\n",
    "There is more to Python programming than just the language. There are plenty of libraries and extensions that suit almost any application. Most of the modules are fully functional in different versions of Python, and let code access functionality supplied by the underlying operating system or other software components such as graphical user interfaces (GUI’s), databases, and networks.Extensions also afford great speed in computationally intensive tasks such as XML parsing and numeric array computations, which is specially suitable for Data Science.\n",
    "\n",
    "Being proficient in Python up to a fluent software developer standar is not needed to process data successfully. To be a high performer Data Scientist / Data Analyst, it’s recommended to get a solid foundation of the basis, understood as the lexical structure, data types, variables, and control flow statements and functions.\n",
    "\n",
    "The distribution of Python I recommend the most is Anaconda. This distribution package compiles the Python standard libraries, some external extensions and the IPython implementation, so you are ready to tackle data analysis tasks. \n",
    "\n",
    "When doing data science with Python, your code is expected to be written in a _Pythonic way_, meaning it should be concise and efficient. Pythonic code is often associated with the use of list comprehensions, which are ways to implement useful data processing functionality with a single line of code.\n"
   ]
  },
  {
   "cell_type": "markdown",
   "metadata": {},
   "source": [
    "## __Lexical structure__\n",
    "\n",
    "The lexical structure of a programming language is the set of basic rules that govern how you write programs in that language. It is the lowest-level syntax of the language, specifying such things as what variable names look like and how to denote comments. \n",
    "\n",
    "Each Python source file is a text file, and it indicates the sequence of lines, tokens, or statements. "
   ]
  },
  {
   "cell_type": "markdown",
   "metadata": {},
   "source": [
    "### Lines and Indentation\n",
    "\n",
    "A Python program is a sequence of *logical lines*, each made up of one or more physical lines. A physical line may end with a comment indicated by a hashtag ( `#` ) sign placed any place not inside a string literal. All characters after the `#`, up to but excluding the line end, is the comment: Python ignores them. \n"
   ]
  },
  {
   "cell_type": "code",
   "execution_count": 17,
   "metadata": {},
   "outputs": [],
   "source": [
    "# This is a single-line comment \n",
    "# There are no double-line \\ \n",
    "# comments "
   ]
  },
  {
   "cell_type": "markdown",
   "metadata": {},
   "source": [
    "Python does not use delimiters, such as semicolon ( ; ) to denote the end of physical lines, the line end denotes the end of most statements. However, a logical line can be constituted by two or more physical lines but those must use a concatenator sign, such as backslash ( `\\` ), an open parenthesis ( `(` ), bracket ( `[` ) or brace ( `{` ).  Physical lines after the first one are called *continuation lines*. Triple-quoted string literals can also span physical lines but those are mostly used into sql applications and longer comments into special applications."
   ]
  },
  {
   "cell_type": "code",
   "execution_count": 18,
   "metadata": {},
   "outputs": [],
   "source": [
    "# This is the most simple single-physical line logical line. In this case, an assignment \n",
    "variable = 5\n",
    "\n",
    "# This is a two-physical line statement into a single logical line. \n",
    "# In this case it's an assignment of a data type called list to a variable.\n",
    "variable = [1, 2,\\\n",
    "            3, 4] # This is the continuation line."
   ]
  },
  {
   "cell_type": "markdown",
   "metadata": {},
   "source": [
    "Python uses _indentation_ to express the block structure of a program. Blocks of code (statements) are denoted with the usage of indentation rather than braces, or other begin/end delimiter. A __block of statements__ is a contiguous sequence of logical lines, all indented by the same amount, and a logical line with less indentation ends the block. All the statements in a block must have the same indentation, as must all the clauses in a compound statement. "
   ]
  },
  {
   "cell_type": "code",
   "execution_count": 19,
   "metadata": {},
   "outputs": [
    {
     "name": "stdout",
     "output_type": "stream",
     "text": [
      "This is the output: 15\n"
     ]
    }
   ],
   "source": [
    "# This is the first block of code. It is used to declare and initialize two variables\n",
    "num1 = 6\n",
    "num2 = 9\n",
    "\n",
    "# This is the second block of code.This one prints the output of the sum\n",
    "sum = num1 + num2\n",
    "print('This is the output:', sum)\n",
    "\n",
    "# In this case, both blocks have the same indentation. "
   ]
  },
  {
   "cell_type": "markdown",
   "metadata": {},
   "source": [
    "Python treats each tab as if it was up to 8 spaces, nevertheless the standard python style is to use four spaces per indentation level. __You must be careful because Python does not allow mixing tabs and spaces for indentation.__"
   ]
  },
  {
   "cell_type": "markdown",
   "metadata": {},
   "source": [
    "### Tokens\n",
    "\n",
    "These are the _elementary lexical components_ of a logical line. Tokens correspond to a substring of the logical line separated by whitespace. In the absence of whitespace, Python would parse them as a single longer identifier. The normal token types are _identifyers, keywords, operators, delimiters, and literals_.\n",
    "\n",
    "__Identifiers__\n",
    "\n",
    "These are names used to identify variables, functions, class names, modules or other objects. They always start with a letter or an underscore ( `_` ).Case is significant: lowercase and uppercase are distinct, and punctuation characters such as  `@` , `$` , and `!` are not allowed. \n",
    "\n",
    "Normal Python style is to start class names with an uppercase letter, and most other identifiers with lowercase  letters. Starting an identifier with a single leading underscore indicates by convention that the identifier is meant to be private. Starting an identifier with a double underscore indicates a strongly private identifier; if the identifier also ends with two trailing underscores, however, this means that it’s a language-defined special name. "
   ]
  },
  {
   "cell_type": "code",
   "execution_count": 20,
   "metadata": {},
   "outputs": [
    {
     "name": "stdout",
     "output_type": "stream",
     "text": [
      "This is a regular variable:  200 , This is a private variable:  100\n"
     ]
    }
   ],
   "source": [
    "first_variable = 200    #Variables are named with lowercase letters. \n",
    "                        # Composed dentifiers are chained with an underscore.\n",
    "_private_variable = 100 #This is a private variable\n",
    "\n",
    "print(\"This is a regular variable: \",first_variable,\", This is a private variable: \", _private_variable)"
   ]
  },
  {
   "cell_type": "markdown",
   "metadata": {},
   "source": [
    "__Delimiters__\n",
    "\n",
    "Python uses the following characters as delimiters and combinations as delimiters in various statements, expressions, and list, dictionary, and set literals and comprehensions, among other purposes. ` ’ ` and ` “ ` surround string literals."
   ]
  },
  {
   "cell_type": "code",
   "execution_count": 80,
   "metadata": {},
   "outputs": [
    {
     "ename": "SyntaxError",
     "evalue": "invalid syntax (1885509909.py, line 1)",
     "output_type": "error",
     "traceback": [
      "\u001b[1;36m  File \u001b[1;32m\"C:\\Users\\jober\\AppData\\Local\\Temp\\ipykernel_4276\\1885509909.py\"\u001b[1;36m, line \u001b[1;32m1\u001b[0m\n\u001b[1;33m    (   )   [   ]   {   }\u001b[0m\n\u001b[1;37m                ^\u001b[0m\n\u001b[1;31mSyntaxError\u001b[0m\u001b[1;31m:\u001b[0m invalid syntax\n"
     ]
    }
   ],
   "source": [
    "(   )   [   ]   {   }\n",
    ",   :   .   =   ;   @\n",
    "+=  -=  *=  /=  //= %=\n",
    "&=  |=  ^=  >>= <<= **="
   ]
  },
  {
   "cell_type": "markdown",
   "metadata": {},
   "source": [
    "__Keywords__\n",
    "\n",
    "These are 35 reserved identifiers in Python for syntactic uses, that why they are sometimes known as *reserved words*. As any other identifiers, those words are case sensitive. They can be all listed by importing the keyword model and printed as follows:"
   ]
  },
  {
   "cell_type": "code",
   "execution_count": 21,
   "metadata": {},
   "outputs": [
    {
     "name": "stdout",
     "output_type": "stream",
     "text": [
      "['False', 'None', 'True', '__peg_parser__', 'and', 'as', 'assert', 'async', 'await', 'break', 'class', 'continue', 'def', 'del', 'elif', 'else', 'except', 'finally', 'for', 'from', 'global', 'if', 'import', 'in', 'is', 'lambda', 'nonlocal', 'not', 'or', 'pass', 'raise', 'return', 'try', 'while', 'with', 'yield']\n"
     ]
    }
   ],
   "source": [
    "import keyword \n",
    "print(keyword.kwlist)"
   ]
  },
  {
   "cell_type": "markdown",
   "metadata": {},
   "source": [
    "__Literals__\n",
    "\n",
    "These are direct denotations in a program of a data value (a number, string, or container). The following are number and string literals in Python: \n"
   ]
  },
  {
   "cell_type": "code",
   "execution_count": 22,
   "metadata": {},
   "outputs": [
    {
     "data": {
      "text/plain": [
       "'Good\\nnight'"
      ]
     },
     "execution_count": 22,
     "metadata": {},
     "output_type": "execute_result"
    }
   ],
   "source": [
    "35             #Integer literal\n",
    "3.14           #Float literal\n",
    "1.0j           #Imaginary literal\n",
    "'Hello'        #String literal \n",
    "\"world\"        #Another string literal \n",
    "\"\"\"Good\n",
    "night\"\"\"       #Triple-quoted strin literal, spanning two lines"
   ]
  },
  {
   "cell_type": "markdown",
   "metadata": {},
   "source": [
    "Combining numbers and string literals with the appropriate delimiters, you can directly build many container types with those literals as values:\n"
   ]
  },
  {
   "cell_type": "code",
   "execution_count": 23,
   "metadata": {},
   "outputs": [
    {
     "data": {
      "text/plain": [
       "{2, 5, 6, 7, 'letra'}"
      ]
     },
     "execution_count": 23,
     "metadata": {},
     "output_type": "execute_result"
    }
   ],
   "source": [
    "[25,4.52,'Hello']       #This is a list\n",
    "[]                      #This is an empty list\n",
    "200,305,567             #This is a tuple\n",
    "(200,305,567)           #This is another tuple\n",
    "()                      #This is an empty tuple\n",
    "{'a':5, 'b':67}         #This is a dictionary\n",
    "{}                      #This is an empty dictionary\n",
    "{2, 5, 6, 7, 'letra'}   #This is a set\n",
    "#There is no literal to denote an empty set. "
   ]
  },
  {
   "cell_type": "markdown",
   "metadata": {},
   "source": [
    "__Operators__\n",
    "\n",
    "Python uses non alphanumeric characters and character combinations as operators. They generally act in conjunction of an expression, which is defined as a *phrase* of code evaluated by python to produce a value. The simplest expressions are literals and identifiers, and you can build other expressions by joining subexpressions with the operators and/or delimiters. The simplest operators are those who represent simple math operations: \n"
   ]
  },
  {
   "cell_type": "code",
   "execution_count": 24,
   "metadata": {},
   "outputs": [
    {
     "name": "stdout",
     "output_type": "stream",
     "text": [
      "The result of the sum is:  18\n",
      "The result of the subtraction is:  12\n",
      "The result of the product is:  45\n",
      "The result of the division is:  5.0\n"
     ]
    }
   ],
   "source": [
    "#These are variables\n",
    "a=15\n",
    "b=3       \n",
    "\n",
    "# Then we use operators as follows\n",
    "\n",
    "# Sum:\n",
    "c = a + b\n",
    "# Subtraction:\n",
    "d = a - b\n",
    "# Product \n",
    "e = a * b\n",
    "# Division\n",
    "f = a / b\n",
    "\n",
    "print('The result of the sum is: ', c)\n",
    "print('The result of the subtraction is: ', d)\n",
    "print('The result of the product is: ', e)\n",
    "print('The result of the division is: ', f) # The result of a division is always a float"
   ]
  },
  {
   "cell_type": "markdown",
   "metadata": {},
   "source": [
    "### Statements \n",
    "\n",
    "There are two types of statements, single and compound statements. \n",
    "\n",
    "__Simple Statements__\n",
    "\n",
    "A simple statement is one that contains no other statements. It lies entirely within a logical line. In Python, you may place more than one simple statement in a logical line, with a semicolon (` ; `) as a separator. However, it is recommended to use one simple statement per line to increase readability. Any expression can be on its own as a simple statement. \n",
    "\n",
    "An *assignment* is a simple statement that assigns values to variables. We use the ` = ` operator, and can never be part of an expression. In that case, the ` := ` (walrus) operator is needed.\n"
   ]
  },
  {
   "cell_type": "code",
   "execution_count": 25,
   "metadata": {},
   "outputs": [],
   "source": [
    "# This is a simple statement\n",
    "variable = 345.76j"
   ]
  },
  {
   "cell_type": "markdown",
   "metadata": {},
   "source": [
    "__Compound Statements__\n",
    "\n",
    "A compound statement contains one or more other statements and controls it's execution. These statements are also known as blocks. It has one or more *clauses*, aligned at the same indentation. Each clause has a *header* starting with a keyword and ending with a colon ( : ), followed by a *body*, which is a sequence of one or more statements, are on separate logical lines after the header line, indented four spaces rightward."
   ]
  },
  {
   "cell_type": "code",
   "execution_count": 26,
   "metadata": {},
   "outputs": [
    {
     "name": "stdout",
     "output_type": "stream",
     "text": [
      "This is the  0 iteration of the loop\n",
      "This is the  1 iteration of the loop\n",
      "This is the  2 iteration of the loop\n",
      "This is the  3 iteration of the loop\n",
      "This is the  4 iteration of the loop\n",
      "This is the  5 iteration of the loop\n",
      "This is the  6 iteration of the loop\n",
      "This is the  7 iteration of the loop\n",
      "This is the  8 iteration of the loop\n",
      "This is the  9 iteration of the loop\n"
     ]
    }
   ],
   "source": [
    "# This is a compound statement \n",
    "for i in range(10):\n",
    "    print(\"This is the \", i, \"iteration of the loop\")"
   ]
  },
  {
   "cell_type": "markdown",
   "metadata": {},
   "source": [
    "## __Data Types__\n",
    "\n",
    "In Python, any Data value is considered an _object_. Objects can be of many types, the categories under which data values are classified. Those categories can be built-in types in Python or personalized ones, the latter are also called _classes_. \n",
    "\n",
    "There are six types of built-in types in Python: *numbers, strings, lists, tuples, dictionaries, and sets*. Those types can be mutable or immutable. An immutable object means that it can not be altered or modified through operations, therefore, when you perform an operation on an immutable object, you produce a new immutable object or do not get a new result at all. \n",
    "\n",
    "### Numbers\n",
    "\n",
    "Numeric types in Python include integers, floating-point numbers, and complex numbers. These are all immutable objects, and that means they produce a new number object when operations are applied on them. It's important to know that numeric literals do not include a sign; a leading ( + ) or ( - ), if present, I'd use a separate operator. \n",
    "\n",
    "- __Integers:__ Integers in Python can be decimal or non-decimal. A decimal literal is a sequence of digits whose first digit is a nonzero. The Decimal literal is the most regularly used integer literal in data science, however, there are specific applications where _binary, octal, or hexadecimal_ literals are needed.\n",
    "\n",
    "- __Floating-point numbers:__ these literals are a sequence of decimal digits that includes a decimal point ( . ), an exponent suffix ( e or E ), or both. \n",
    "\n",
    "- __Complex numbers:__ these are literals made of two floating-point numbers, one arch for real and imaginary parts. The imaginary part is identified with the constant ( j ) added to it, which means a square root of -1. "
   ]
  },
  {
   "cell_type": "code",
   "execution_count": 27,
   "metadata": {},
   "outputs": [
    {
     "data": {
      "text/plain": [
       "((1-3j), (3.2+943j))"
      ]
     },
     "execution_count": 27,
     "metadata": {},
     "output_type": "execute_result"
    }
   ],
   "source": [
    "1 , 4 , 456, 4325678        #Are all integers\n",
    "3.2, 345.59, 24567.456789   #Are all floating-piont numbers\n",
    "1-3j, 3.2+943j              #Are all complex numbers"
   ]
  },
  {
   "cell_type": "markdown",
   "metadata": {},
   "source": [
    "*Iterables* is the Python concept that captures in abstract the iteration behavior of __sequences__, which are ordered containers of items, indexed by integers. The built-in types in Python are strings, lists and tuples. \n",
    "\n",
    "### Strings (str)\n",
    "\n",
    "The *str* object is a sequence of characters used to store and represent text-based information. These objects are immutable: when an operation is performed on a str object, the result is always a new string object, rather than mutating an existing string. \n",
    "\n",
    "A variant of string literals are *raw string literals*, where escape sequences are not implemented. There are quotes literals immediately preceded by an ( r or R ). Raw string literals come in handy for strings that include many backslashes, especially regular expression patterns and Windows absolute filenames (which use backslashes as directory separators). "
   ]
  },
  {
   "cell_type": "code",
   "execution_count": 28,
   "metadata": {},
   "outputs": [
    {
     "data": {
      "text/plain": [
       "'C:\\\\Users\\\\main_user\\\\directory_name'"
      ]
     },
     "execution_count": 28,
     "metadata": {},
     "output_type": "execute_result"
    }
   ],
   "source": [
    "'This is a literal string'\n",
    "\"This is another literal string\"\n",
    "\n",
    "'This is a string that \\\n",
    "spans two lines '                       #Comments not allowed on the previous line. \n",
    "\n",
    "\"\"\"\n",
    "Using triple quoted lines we can:\n",
    "use \"quoted expresions into a string\"\n",
    "and also spanning several lines \"\"\"     #Comments not allowed on previous lines.\n",
    "\n",
    "r\"C:\\Users\\main_user\\directory_name\"             #This is the recomended form to call directories in Python when using windows."
   ]
  },
  {
   "cell_type": "markdown",
   "metadata": {},
   "source": [
    "### Tuples\n",
    "\n",
    "A tuple is an immutable object. That means that once created, it can not be changed. It can use mutable objects such as lists as tuple items, but best practice is generally to avoid doing so.  To denote a tuple use a series of expressions (the items of a tuple) separated by commas ( , ) and can optionally be enclosed in parentheses ` ( ) `.\n",
    "\n",
    "Tuples are typically used to store collections of heterogeneous data; that is, data of different types. They are specially useful when you need a structure to hold the properties of a real world object. \n"
   ]
  },
  {
   "cell_type": "code",
   "execution_count": 29,
   "metadata": {},
   "outputs": [
    {
     "data": {
      "text/plain": [
       "(1, 2, 4, 6)"
      ]
     },
     "execution_count": 29,
     "metadata": {},
     "output_type": "execute_result"
    }
   ],
   "source": [
    "23, 531, 4667           #This is a tuple with 3 items. Parentheses optional\n",
    "(2.72,)                 #This is a tuple with one item. needs trailing comma\n",
    "()                      #This is an empty tuple. Parenthesis not optional\n",
    "tuple('wow')            #Built-in function that creates a new tuple ('w', 'o', 'w')\n",
    "x = [1,2,4,6]\n",
    "tuple(x)                #This creates and returns a tuple whose items are the same as those in x"
   ]
  },
  {
   "cell_type": "markdown",
   "metadata": {},
   "source": [
    "### Lists\n",
    "\n",
    "A list is a mutable ordered sequence of items, meaning you can add, remove, and modify a list's elements. The items of a list are arbitrary objects and may be of different types. Lists can have duplicate elements. To denote a list, use a series of expressions (the items of the list) separated by commas ( , ), within brackets. \n",
    "\n",
    "Although Python does allow you to have elements of different data types in the same list, best practice suggests using lists to contain elements that represent a series of usually related, similar things that can be grouped together. A typical list contains only elements belonging to a single category (that is homogeneous data, such as people's names, article titles, or participant numbers). "
   ]
  },
  {
   "cell_type": "code",
   "execution_count": 30,
   "metadata": {},
   "outputs": [
    {
     "data": {
      "text/plain": [
       "['l', 'e', 't', 'r', 'a', 's']"
      ]
     },
     "execution_count": 30,
     "metadata": {},
     "output_type": "execute_result"
    }
   ],
   "source": [
    "[42, 3.14, 'hello']             #List with three items. Brackets [ ] are mandatory\n",
    "['title']                       #List with only one item\n",
    "[]                              #Empty list\n",
    "list('wow')                     #Built-in function that creates the list ['w', 'o', 'w']\n",
    "x = 'letras'\n",
    "list(x)                         #This creates and returns a list whose items are the same as those in x"
   ]
  },
  {
   "cell_type": "markdown",
   "metadata": {},
   "source": [
    "Operations and methods on list are very useful in data analysis. Let's talk see some of them:"
   ]
  },
  {
   "cell_type": "code",
   "execution_count": 31,
   "metadata": {},
   "outputs": [
    {
     "data": {
      "text/plain": [
       "[1, 42, 3, 4, 49, 76]"
      ]
     },
     "execution_count": 31,
     "metadata": {},
     "output_type": "execute_result"
    }
   ],
   "source": [
    "# One oway to modify a single item of a list is by assigning to an indexing\n",
    "x = [1, 2, 3, 4, 49, 76]\n",
    "x[1]= 42                        #This modify the original list x by replacing 42 in the position 1. \n",
    "x                               #x is now [1, 42, 3, 4]"
   ]
  },
  {
   "cell_type": "code",
   "execution_count": 32,
   "metadata": {},
   "outputs": [
    {
     "data": {
      "text/plain": [
       "[1, 81, 55, 63, -8, 49, 76]"
      ]
     },
     "execution_count": 32,
     "metadata": {},
     "output_type": "execute_result"
    }
   ],
   "source": [
    "# Another way to modify a list object is to use a slice as the target of an assignment statement.\n",
    "\n",
    "x[1:4]= [81, 55, 63, -8]        #This modify the the positions 1,2,3 and 4. \n",
    "x                               #x is now [1, 81, 55, 63, -8, 49, 76]"
   ]
  },
  {
   "cell_type": "code",
   "execution_count": 33,
   "metadata": {},
   "outputs": [
    {
     "data": {
      "text/plain": [
       "[1, 81, 55, 0, -8, 49, 34]"
      ]
     },
     "execution_count": 33,
     "metadata": {},
     "output_type": "execute_result"
    }
   ],
   "source": [
    "x[3::3]=[0, 34]                 #This is called slicing. This modify the list from the position 3 up to the end, with a step of 3 elements. \n",
    "x                               #x is now [1, 81, 55, 0, -8, 49, 34]"
   ]
  },
  {
   "cell_type": "code",
   "execution_count": 34,
   "metadata": {},
   "outputs": [
    {
     "data": {
      "text/plain": [
       "[1, 81, 0, -8, 49, 34]"
      ]
     },
     "execution_count": 34,
     "metadata": {},
     "output_type": "execute_result"
    }
   ],
   "source": [
    "del x[2]                        #This eliminates the second position of the list, hence, reduce its lenght. \n",
    "x                               #x i now [1, 81, 0, -8, 49, 34]"
   ]
  },
  {
   "cell_type": "code",
   "execution_count": 35,
   "metadata": {},
   "outputs": [
    {
     "data": {
      "text/plain": [
       "1"
      ]
     },
     "execution_count": 35,
     "metadata": {},
     "output_type": "execute_result"
    }
   ],
   "source": [
    "x.count(0)                      #This method returns the number of items of x that are equal to 0. In this case 1. "
   ]
  },
  {
   "cell_type": "code",
   "execution_count": 36,
   "metadata": {},
   "outputs": [
    {
     "data": {
      "text/plain": [
       "2"
      ]
     },
     "execution_count": 36,
     "metadata": {},
     "output_type": "execute_result"
    }
   ],
   "source": [
    "x.index(0)                      #This method returns the index of the first occurrence of an item in x. In this case is 2."
   ]
  },
  {
   "cell_type": "code",
   "execution_count": 37,
   "metadata": {},
   "outputs": [
    {
     "data": {
      "text/plain": [
       "6"
      ]
     },
     "execution_count": 37,
     "metadata": {},
     "output_type": "execute_result"
    }
   ],
   "source": [
    "len(x)                          #This returns the amount of elements in a list. x contains 6 elements."
   ]
  },
  {
   "cell_type": "code",
   "execution_count": 38,
   "metadata": {},
   "outputs": [
    {
     "data": {
      "text/plain": [
       "[1, 81, 0, -8, 49, 34, 8]"
      ]
     },
     "execution_count": 38,
     "metadata": {},
     "output_type": "execute_result"
    }
   ],
   "source": [
    "x.append(8)                     #This method add the value 8 to the end of the list. This means create a new position 6 and put 8 in it.\n",
    "x                               #The list x is now [1, 81, 0, -8, 49, 34, 8]"
   ]
  },
  {
   "cell_type": "code",
   "execution_count": 39,
   "metadata": {},
   "outputs": [
    {
     "data": {
      "text/plain": [
       "[]"
      ]
     },
     "execution_count": 39,
     "metadata": {},
     "output_type": "execute_result"
    }
   ],
   "source": [
    "x.clear()                       #This remove all items from the list, leaving x empty. \n",
    "x"
   ]
  },
  {
   "cell_type": "code",
   "execution_count": 40,
   "metadata": {},
   "outputs": [
    {
     "data": {
      "text/plain": [
       "[11, 12, 13]"
      ]
     },
     "execution_count": 40,
     "metadata": {},
     "output_type": "execute_result"
    }
   ],
   "source": [
    "a = [11, 12, 13]\n",
    "x.extend(a)                     #This appends all the items of the list a to the end of the list x. \n",
    "x                               #X is now [11, 12, 13]"
   ]
  },
  {
   "cell_type": "code",
   "execution_count": 41,
   "metadata": {},
   "outputs": [
    {
     "data": {
      "text/plain": [
       "[11, 89, 12, 13]"
      ]
     },
     "execution_count": 41,
     "metadata": {},
     "output_type": "execute_result"
    }
   ],
   "source": [
    "x.insert(1,89)                  #This method insert item 89 in the position 1, moving following items of x righwards increasing . \n",
    "x                               #x is now [11, 89, 12, 13]"
   ]
  },
  {
   "cell_type": "code",
   "execution_count": 42,
   "metadata": {},
   "outputs": [
    {
     "data": {
      "text/plain": [
       "[11, 89, 13]"
      ]
     },
     "execution_count": 42,
     "metadata": {},
     "output_type": "execute_result"
    }
   ],
   "source": [
    "x.pop(-2)                       #This method returns the value of the item at index -2 and remove it form x. \n",
    "x                               #x is now [11, 89, 13]"
   ]
  },
  {
   "cell_type": "code",
   "execution_count": 43,
   "metadata": {},
   "outputs": [
    {
     "data": {
      "text/plain": [
       "[11, 89]"
      ]
     },
     "execution_count": 43,
     "metadata": {},
     "output_type": "execute_result"
    }
   ],
   "source": [
    "x.remove(13)                    #This method removes the first occurrence of the value 13 from x. \n",
    "x                               #x is now [11, 89]"
   ]
  },
  {
   "cell_type": "code",
   "execution_count": 44,
   "metadata": {},
   "outputs": [
    {
     "data": {
      "text/plain": [
       "[89, 11]"
      ]
     },
     "execution_count": 44,
     "metadata": {},
     "output_type": "execute_result"
    }
   ],
   "source": [
    "x.reverse()                     #This method reverse, in place, the items of a list. \n",
    "x                               #x is now [89, 11]"
   ]
  },
  {
   "cell_type": "code",
   "execution_count": 45,
   "metadata": {},
   "outputs": [
    {
     "data": {
      "text/plain": [
       "[11, 89]"
      ]
     },
     "execution_count": 45,
     "metadata": {},
     "output_type": "execute_result"
    }
   ],
   "source": [
    "x.sort()                        #This method sorts, in place, the items of a list (in ascending order by default). \n",
    "                                # x is now [11, 89]\n",
    "x                               #If reverse order is required, then the argument reverse=True is needed."
   ]
  },
  {
   "cell_type": "markdown",
   "metadata": {},
   "source": [
    "### Sets\n",
    "\n",
    "A Python set is an unordered collection of unique items. Duplicate items are not allowed in a set. To denote a *set*, you can use a series of elements separated by commas ( , ) within braces ( `{ }` )."
   ]
  },
  {
   "cell_type": "code",
   "execution_count": 46,
   "metadata": {},
   "outputs": [
    {
     "data": {
      "text/plain": [
       "{'a', 'e', 'l', 'r', 's', 't'}"
      ]
     },
     "execution_count": 46,
     "metadata": {},
     "output_type": "execute_result"
    }
   ],
   "source": [
    "{42, 3.14, 'hello'}             #Set with three items. Brackets [ ] are mandatory\n",
    "{'title'}                       #Set with only one item\n",
    "set()                           #Empty set. {} in an empty dictionary\n",
    "set('wow')                      #Built-in function that creates the set {'o', 'w'}\n",
    "x = 'letras'\n",
    "set(x)                          #This creates and returns a set whose items are the ordered letters"
   ]
  },
  {
   "cell_type": "markdown",
   "metadata": {},
   "source": [
    "Python provides a variety of operations applicable to sets. Let's see them:"
   ]
  },
  {
   "cell_type": "code",
   "execution_count": 47,
   "metadata": {},
   "outputs": [
    {
     "data": {
      "text/plain": [
       "True"
      ]
     },
     "execution_count": 47,
     "metadata": {},
     "output_type": "execute_result"
    }
   ],
   "source": [
    "# Take a look to the s set as follows:\n",
    "s = {'male', 'doctor' ,34 ,'engineering','America','Florida'}\n",
    "\n",
    "'male' in s                     #This operation validates if a value is contained in a set"
   ]
  },
  {
   "cell_type": "code",
   "execution_count": 48,
   "metadata": {},
   "outputs": [
    {
     "data": {
      "text/plain": [
       "6"
      ]
     },
     "execution_count": 48,
     "metadata": {},
     "output_type": "execute_result"
    }
   ],
   "source": [
    "len(s)                          #This method returns the number of elements in a set"
   ]
  },
  {
   "cell_type": "code",
   "execution_count": 49,
   "metadata": {},
   "outputs": [
    {
     "name": "stdout",
     "output_type": "stream",
     "text": [
      "The shallow copy is the set  {34, 'Florida', 'engineering', 'male', 'America', 'doctor'}\n",
      "While the original set is  {34, 'Florida', 'engineering', 'male', 'America', 'doctor'}\n"
     ]
    }
   ],
   "source": [
    "m = s.copy()                    #This method returns a copy whose items are the same objects of the original list.\n",
    "print('The shallow copy is the set ',m)\n",
    "print('While the original set is ',s)"
   ]
  },
  {
   "cell_type": "code",
   "execution_count": 50,
   "metadata": {},
   "outputs": [
    {
     "data": {
      "text/plain": [
       "{34, 'America', 'Florida', 'doctor', 'engineering'}"
      ]
     },
     "execution_count": 50,
     "metadata": {},
     "output_type": "execute_result"
    }
   ],
   "source": [
    "m.remove('male')            #This operation removes an element as an item of the set. \n",
    "m                           #Raises an error if the item is not found in the set\n",
    "                            #The copied set is now {34, 'America', 'Florida', 'doctor', 'engineering'}"
   ]
  },
  {
   "cell_type": "code",
   "execution_count": 51,
   "metadata": {},
   "outputs": [
    {
     "data": {
      "text/plain": [
       "{'male'}"
      ]
     },
     "execution_count": 51,
     "metadata": {},
     "output_type": "execute_result"
    }
   ],
   "source": [
    "#We can compare sets by calling:\n",
    "s.difference(m)             #This returns the set of all items of s that aren't in m"
   ]
  },
  {
   "cell_type": "code",
   "execution_count": 52,
   "metadata": {},
   "outputs": [
    {
     "data": {
      "text/plain": [
       "{34, 'America', 'Florida', 'doctor', 'engineering'}"
      ]
     },
     "execution_count": 52,
     "metadata": {},
     "output_type": "execute_result"
    }
   ],
   "source": [
    "s.intersection(m)           #This method returns the common elements in both sets"
   ]
  },
  {
   "cell_type": "code",
   "execution_count": 53,
   "metadata": {},
   "outputs": [
    {
     "data": {
      "text/plain": [
       "True"
      ]
     },
     "execution_count": 53,
     "metadata": {},
     "output_type": "execute_result"
    }
   ],
   "source": [
    "m.issubset(s)               #This method returns true when when all items of m are also in s\n",
    "                            #This means m is a subset of s"
   ]
  },
  {
   "cell_type": "code",
   "execution_count": 54,
   "metadata": {},
   "outputs": [
    {
     "data": {
      "text/plain": [
       "False"
      ]
     },
     "execution_count": 54,
     "metadata": {},
     "output_type": "execute_result"
    }
   ],
   "source": [
    "m.issuperset(s)             #This method returns true when all items of m are also in s\n",
    "                            #This means there are elements in s that are not in m"
   ]
  },
  {
   "cell_type": "code",
   "execution_count": 55,
   "metadata": {},
   "outputs": [
    {
     "data": {
      "text/plain": [
       "True"
      ]
     },
     "execution_count": 55,
     "metadata": {},
     "output_type": "execute_result"
    }
   ],
   "source": [
    "k = {'veterans'}\n",
    "s.isdisjoint(k)             #This method returns true if the intersection of those sets is the empty set\n",
    "                            #This means there are no common elements"
   ]
  },
  {
   "cell_type": "code",
   "execution_count": 56,
   "metadata": {},
   "outputs": [
    {
     "data": {
      "text/plain": [
       "{'male', 'veterans'}"
      ]
     },
     "execution_count": 56,
     "metadata": {},
     "output_type": "execute_result"
    }
   ],
   "source": [
    "k.add('male')               #This method adds one, and only one, element to a set\n",
    "k"
   ]
  },
  {
   "cell_type": "code",
   "execution_count": 57,
   "metadata": {},
   "outputs": [
    {
     "data": {
      "text/plain": [
       "{34, 'America', 'Florida', 'Washington', 'doctor', 'engineering', 'veterans'}"
      ]
     },
     "execution_count": 57,
     "metadata": {},
     "output_type": "execute_result"
    }
   ],
   "source": [
    "k.add('Washington')\n",
    "k.symmetric_difference(s)   #This method returns the set of all items in either sets, but not both."
   ]
  },
  {
   "cell_type": "code",
   "execution_count": 58,
   "metadata": {},
   "outputs": [
    {
     "data": {
      "text/plain": [
       "{34,\n",
       " 'America',\n",
       " 'Florida',\n",
       " 'Washington',\n",
       " 'doctor',\n",
       " 'engineering',\n",
       " 'male',\n",
       " 'veterans'}"
      ]
     },
     "execution_count": 58,
     "metadata": {},
     "output_type": "execute_result"
    }
   ],
   "source": [
    "k.union(s)                  #This method returns the set of all items that are in both sets"
   ]
  },
  {
   "cell_type": "code",
   "execution_count": 59,
   "metadata": {},
   "outputs": [
    {
     "data": {
      "text/plain": [
       "{34, 'America', 'doctor', 'engineering', 'male'}"
      ]
     },
     "execution_count": 59,
     "metadata": {},
     "output_type": "execute_result"
    }
   ],
   "source": [
    "s.discard('Florida')        #This method eliminates 'Florida' as an item of the set s\n",
    "s                           #This has no effect if the item is not part of the set already"
   ]
  },
  {
   "cell_type": "markdown",
   "metadata": {},
   "source": [
    "### Dictionaries\n",
    "\n",
    "Dictionaries are the only single mapping type provided by Python. Dictionaries are mutable, unordered collections of _key-value_ pairs, where each key is a unique name that identifies an item of data, the value. Each key is separated from its value by a colon ( : ), and key-value pairs are separated by commas ( , ), within braces ( `{ }` ). Dictionaries, like tuples, are useful for storing heterogeneous data about real-world data."
   ]
  },
  {
   "cell_type": "code",
   "execution_count": 60,
   "metadata": {},
   "outputs": [
    {
     "data": {
      "text/plain": [
       "{'x': 42, 'y': 3.14, 'z': 35}"
      ]
     },
     "execution_count": 60,
     "metadata": {},
     "output_type": "execute_result"
    }
   ],
   "source": [
    "{'x':42, 'y':3.14, 'z':35}      #This is a dictionary with 3 items, str keys\n",
    "{1:56, 34:964}                  #This is a dictionary with 2 items, int keys\n",
    "{23:'za', 'br':235}             #This is a dictionary with 2 items, different keys\n",
    "{}                              #This is an empty dictionary\n",
    "dict()                          #Built-in function that also produce an empty dictionary\n",
    "dict(x=42,y=3.14,z=35)          #Built-in function that creates the dictionary {'x': 42, 'y': 3.14, 'z': 35}\n"
   ]
  },
  {
   "cell_type": "markdown",
   "metadata": {},
   "source": [
    "Python provides a variety of operations applicable to dictionaries. Let's see the following:"
   ]
  },
  {
   "cell_type": "code",
   "execution_count": 61,
   "metadata": {},
   "outputs": [
    {
     "data": {
      "text/plain": [
       "6"
      ]
     },
     "execution_count": 61,
     "metadata": {},
     "output_type": "execute_result"
    }
   ],
   "source": [
    "# Since dictionaries are containers, the built in function can take dictionaries as its argument. \n",
    "d = {'age':25, 'food':'fish', 'sport':'soccer', 'state':'New york', 'childs':2, 'status':'single'}\n",
    "\n",
    "len(d)                          #This function returns the number of key-pair in a dictionary."
   ]
  },
  {
   "cell_type": "code",
   "execution_count": 62,
   "metadata": {},
   "outputs": [
    {
     "data": {
      "text/plain": [
       "True"
      ]
     },
     "execution_count": 62,
     "metadata": {},
     "output_type": "execute_result"
    }
   ],
   "source": [
    "# Keys can be chacked in a dictionary using as follows:\n",
    "'food' in d                     #In this case returns True because the key 'food' exist in d"
   ]
  },
  {
   "cell_type": "code",
   "execution_count": 63,
   "metadata": {},
   "outputs": [
    {
     "data": {
      "text/plain": [
       "'soccer'"
      ]
     },
     "execution_count": 63,
     "metadata": {},
     "output_type": "execute_result"
    }
   ],
   "source": [
    "#To denote a value ina dictionary currently associated with a key, we use indexing. \n",
    "d['sport']                      #This is the way we access to values"
   ]
  },
  {
   "cell_type": "code",
   "execution_count": 64,
   "metadata": {},
   "outputs": [
    {
     "data": {
      "text/plain": [
       "{'age': 25,\n",
       " 'food': 'fish',\n",
       " 'sport': 'soccer',\n",
       " 'state': 'New york',\n",
       " 'childs': 2,\n",
       " 'status': 'single',\n",
       " 'floor': 'second'}"
      ]
     },
     "execution_count": 64,
     "metadata": {},
     "output_type": "execute_result"
    }
   ],
   "source": [
    "#Adding a new key is as easy as follows:\n",
    "d['floor']='second'\n",
    "#The dictionary now shows a new key-value pair 'floor':'second' \n",
    "d"
   ]
  },
  {
   "cell_type": "code",
   "execution_count": 65,
   "metadata": {},
   "outputs": [
    {
     "data": {
      "text/plain": [
       "{'age': 25,\n",
       " 'food': 'fish',\n",
       " 'sport': 'soccer',\n",
       " 'state': 'New york',\n",
       " 'childs': 2,\n",
       " 'status': 'single',\n",
       " 'floor': 'second'}"
      ]
     },
     "execution_count": 65,
     "metadata": {},
     "output_type": "execute_result"
    }
   ],
   "source": [
    "# A shallow copy of the dictionary can be obtained with \n",
    "h = d.copy()\n",
    "h                           #The new dictionary h is a copy of d"
   ]
  },
  {
   "cell_type": "code",
   "execution_count": 66,
   "metadata": {},
   "outputs": [
    {
     "data": {
      "text/plain": [
       "{'age': 25,\n",
       " 'food': 'fish',\n",
       " 'sport': 'soccer',\n",
       " 'state': 'New york',\n",
       " 'status': 'single',\n",
       " 'floor': 'second'}"
      ]
     },
     "execution_count": 66,
     "metadata": {},
     "output_type": "execute_result"
    }
   ],
   "source": [
    "#Items (key-value) pairs can be deleted by using del statement\n",
    "del d['childs']\n",
    "d"
   ]
  },
  {
   "cell_type": "code",
   "execution_count": 67,
   "metadata": {},
   "outputs": [
    {
     "data": {
      "text/plain": [
       "dict_items([('age', 25), ('food', 'fish'), ('sport', 'soccer'), ('state', 'New york'), ('status', 'single'), ('floor', 'second')])"
      ]
     },
     "execution_count": 67,
     "metadata": {},
     "output_type": "execute_result"
    }
   ],
   "source": [
    "d.items()                   #This method returns an iterable object whose items are all current items."
   ]
  },
  {
   "cell_type": "code",
   "execution_count": 68,
   "metadata": {},
   "outputs": [
    {
     "data": {
      "text/plain": [
       "dict_keys(['age', 'food', 'sport', 'state', 'status', 'floor'])"
      ]
     },
     "execution_count": 68,
     "metadata": {},
     "output_type": "execute_result"
    }
   ],
   "source": [
    "d.keys()                    #This method returns all the keys in a dictionary."
   ]
  },
  {
   "cell_type": "code",
   "execution_count": 69,
   "metadata": {},
   "outputs": [
    {
     "data": {
      "text/plain": [
       "dict_values([25, 'fish', 'soccer', 'New york', 'single', 'second'])"
      ]
     },
     "execution_count": 69,
     "metadata": {},
     "output_type": "execute_result"
    }
   ],
   "source": [
    "d.values()                  #This method returns all the values in a dictionary."
   ]
  },
  {
   "cell_type": "code",
   "execution_count": 70,
   "metadata": {},
   "outputs": [
    {
     "data": {
      "text/plain": [
       "'single'"
      ]
     },
     "execution_count": 70,
     "metadata": {},
     "output_type": "execute_result"
    }
   ],
   "source": [
    "d.pop('status')             #This method remove and returns the value when the key is in a dictionary."
   ]
  },
  {
   "cell_type": "code",
   "execution_count": 71,
   "metadata": {},
   "outputs": [
    {
     "data": {
      "text/plain": [
       "{'age': 25,\n",
       " 'food': 'fish',\n",
       " 'sport': 'soccer',\n",
       " 'state': 'New york',\n",
       " 'floor': 'second'}"
      ]
     },
     "execution_count": 71,
     "metadata": {},
     "output_type": "execute_result"
    }
   ],
   "source": [
    "# The new dictionary doesn't contain the 'status':'single'\n",
    "d                          "
   ]
  },
  {
   "cell_type": "code",
   "execution_count": 72,
   "metadata": {},
   "outputs": [
    {
     "data": {
      "text/plain": [
       "'fish'"
      ]
     },
     "execution_count": 72,
     "metadata": {},
     "output_type": "execute_result"
    }
   ],
   "source": [
    "d.setdefault('food','meat')     #Returns the value if the key exist in the dictionary. \n",
    "                                #If doesn't exist the item in the dictionary, sets the new key to the passed value."
   ]
  },
  {
   "cell_type": "code",
   "execution_count": 73,
   "metadata": {},
   "outputs": [
    {
     "data": {
      "text/plain": [
       "('floor', 'second')"
      ]
     },
     "execution_count": 73,
     "metadata": {},
     "output_type": "execute_result"
    }
   ],
   "source": [
    "d.popitem()                     #This method remove and returns the items from d in last-in, first-out order.\n",
    "                                #In this case returns the last added item."
   ]
  },
  {
   "cell_type": "markdown",
   "metadata": {},
   "source": [
    "There are two special data types worth knowing, __None__ and the __Ellipsis ( … )__. \n",
    "\n",
    "The None denotes a null object, and has no methods or other attributes. Its suitable to use None as a placeholder when a reference is needed but you don't care what object you refer to, or when you need to indicate that no object is there. Functions return None as their result unless they have specific return statements coded to return other variables. None can be used as a dictionary key.\n",
    "\n",
    "The Ellipsis, written as three periods with no intervening spaces ( … ), is a special object used in numerical applications or as an alternative to None when None is a valid entry. \n"
   ]
  },
  {
   "cell_type": "markdown",
   "metadata": {},
   "source": [
    "## Variables and other references.\n",
    "\n",
    "Python accesses data values through *references*. A reference is a name that refers to a value (object). References take the form of variables, attributes, and items. \n",
    "\n",
    "__Variables__ is the name used to reference a value (object). The existence of a variable begins with a statement that binds the variable (in other words, set a name to hold a reference to some object), that's why there are no declarations in Python. A variable has no intrinsic value, the type of variable is defined by the object it refers to. The __del__ statement unbinds a variable reference, although doing so is rare. Any identifier can be used to name a variable except the 30-plus reserved keywords.\n",
    "\n",
    "Attributes and Items are identifiers applicable to an object. An __Attribute__ is a function called on an object through the use of an attribute name preceded by a period ( `.` ). An __item__ is also a form to get information from an object by the usage of an index or key in a set of brackets ( `[ ]` ) added to it. Attributes and items are widely used in data science libraries as pandas to get information from objects. \n",
    "\n",
    "Assignment statements can be plain or augmented. Plain assignment to a variable is how you create a new variable or rebind an existing variable to a new value, attribute or item. Augmented assignment cannot, per se, create new references, but it can rebind a variable or and an attribute.\n"
   ]
  },
  {
   "cell_type": "markdown",
   "metadata": {},
   "source": [
    "## __Control Flow Statements__\n",
    "\n",
    "Control Flow Statements are those who regulate the order in which the program’s code executes. The main control flow statement structures are *conditional statements, loops, and functions*. \n",
    "\n",
    "### The _if_ Statement\n",
    "\n",
    "This is a compound statement that lets us conditionally execute blocks of lines only when some criteria is met, or choose statements to execute depending on mutually exclusive conditions. "
   ]
  },
  {
   "cell_type": "code",
   "execution_count": 74,
   "metadata": {},
   "outputs": [
    {
     "name": "stdout",
     "output_type": "stream",
     "text": [
      "w is even and nonnegative\n"
     ]
    }
   ],
   "source": [
    "w = 4\n",
    "if w < 0:                                   # w < 0 is the expression evaluated; If positive, then the immediate block is run\n",
    "    print('w is negative')\n",
    "elif w % 2:                                 # When the if expression is evaluated negative, the elif clauses are evaluated. \n",
    "    print('w is positive and odd')          # The elif clauses are optional, but there can be as many elif clauses as needed.\n",
    "else:                                       # The else clauses usually indicates the non evaluated posibilities.\n",
    "    print('w is even and nonnegative')"
   ]
  },
  {
   "cell_type": "markdown",
   "metadata": {},
   "source": [
    "When the _if_ clause's condition evaluates as true, the statements within the _if_ condition clause execute, then the entire _if_ statement ends. Otherwise, Python evaluates each _elif_ clause's condition in order. When an _else_ clause exist, it executes. In any case, statements following the entire _if_ construct, at the same level, execute next. \n",
    "\n",
    "### The _while_ statement\n",
    "\n",
    "The __while__ statement repeats execution of a statement or block of statements for as long as a conditional expression evaluates as true. It can also include an else clause and break and continue statement.\n"
   ]
  },
  {
   "cell_type": "code",
   "execution_count": 75,
   "metadata": {},
   "outputs": [
    {
     "name": "stdout",
     "output_type": "stream",
     "text": [
      "The aprroximate log2 is 9\n"
     ]
    }
   ],
   "source": [
    "i = 456\n",
    "count = 0\n",
    "while i > 0:\n",
    "    i //= 2                                 #floor division\n",
    "    count += 1\n",
    "print('The aprroximate log2 is', count)"
   ]
  },
  {
   "cell_type": "markdown",
   "metadata": {},
   "source": [
    "First Python evaluates a expression, which is known as the loop condition, in a boolean context. When the condition evaluates as *False*, the __while__ statement ends. When the loop condition evaluates as true, the statement or block of statements that make up the loop body executes. "
   ]
  },
  {
   "cell_type": "markdown",
   "metadata": {},
   "source": [
    "> Take care not to introduce a code that never ends in a condition statement. This will produce a process that never ends and, consequently, that your system runs out of resources.  \n"
   ]
  },
  {
   "cell_type": "markdown",
   "metadata": {},
   "source": [
    "### The _for_ Statement\n",
    "\n",
    "The _for_ statement repeats execution of a statement or block of statements controlled by an iterable expression. The __in__ keyword is part of the syntax of the __for__ statement; its purpose here is distinct  from the __in__ operator, which tests membership. "
   ]
  },
  {
   "cell_type": "code",
   "execution_count": 76,
   "metadata": {},
   "outputs": [
    {
     "name": "stdout",
     "output_type": "stream",
     "text": [
      "give me a c\n",
      "give me a i\n",
      "give me a a\n",
      "give me a o\n"
     ]
    }
   ],
   "source": [
    "for letter in 'ciao':\n",
    "    print(f'give me a {letter}')"
   ]
  },
  {
   "cell_type": "markdown",
   "metadata": {},
   "source": [
    "A __for__ statement can also include an else clause and a break and continue statements. An _iterable_ expression may be any iterable Python expression. In particular, any sequence is iterable. \n",
    "\n",
    "In our previous example, _letter_ is the target. A __target__ is normally an identifier naming the control variable of the loop; the for statement successfully rebinds this variable to each item of the iterator, in order. The statement or statements that make up the loop body execute once for each item in _iterable_, unless the loop ends because of an exception."
   ]
  },
  {
   "cell_type": "code",
   "execution_count": 77,
   "metadata": {},
   "outputs": [
    {
     "name": "stdout",
     "output_type": "stream",
     "text": [
      "age 25\n",
      "food fish\n",
      "sport soccer\n",
      "state New york\n",
      "childs 2\n",
      "status single\n",
      "floor second\n"
     ]
    }
   ],
   "source": [
    "for key,value in h.items():\n",
    "    if key and value:\n",
    "        print(key,value)"
   ]
  },
  {
   "cell_type": "markdown",
   "metadata": {},
   "source": [
    "An _iterator_ is an object _i_ such that you can call next(i), which returns the next item of iterator _i_ or, when exhausted, raises a StopIteration exception. \n",
    "\n",
    "The function __range(x)__ generates the consecutive integers from 0 (included) up to x (excluded). This is the simplest way to loop n times in Python.\n",
    "\n",
    "### The __*break*__ and __*continue*__ statements\n",
    "\n",
    "The __*break*__ statement is used only within a loop body. when _break_ executes, the loop terminates without executing any __else__ clause on the loop. When loops are nested, a break terminates only the innermost nested loop. In practice, a break is typically within a clause of an __if__ statement in the loop body, so that break executes conditionally."
   ]
  },
  {
   "cell_type": "code",
   "execution_count": 78,
   "metadata": {},
   "outputs": [
    {
     "name": "stdout",
     "output_type": "stream",
     "text": [
      "1\n",
      "2\n",
      "3\n",
      "4\n",
      "5\n"
     ]
    }
   ],
   "source": [
    "r = 1\n",
    "while r > 0:                             \n",
    "    print(r)\n",
    "    r += 1\n",
    "    if r > 5:                       # This loop can never terminate \"naturally\" \n",
    "        break"
   ]
  },
  {
   "cell_type": "markdown",
   "metadata": {},
   "source": [
    "The __*continue*__ statement can exist only within a loop body. It causes the current iteration of the loop body to terminate, and execution continues with the next iteration of the loop. In practice, a *continue* is usually within a clause of an _if_ statement in the loop body, so that continue executes conditionally. \n",
    "\n",
    "The _while_ and _for_ statements may optionally have a trailing else clause. The __else__ statement executes when the loop terminates naturally, but not when the loop terminates prematurely (via break, return, or an exception). "
   ]
  },
  {
   "cell_type": "code",
   "execution_count": 79,
   "metadata": {},
   "outputs": [
    {
     "name": "stdout",
     "output_type": "stream",
     "text": [
      "1\n",
      "2\n",
      "3\n",
      "4\n",
      "The higher value in the list is:  6\n",
      "This loop terminates naturally\n"
     ]
    }
   ],
   "source": [
    "# This example ilustrates the usage of continue and else clauses after a loop:\n",
    "\n",
    "f = [1,2,3,4,5,6]\n",
    "for r in f:\n",
    "    if r < 5:\n",
    "        print(r)\n",
    "    elif r == 5:\n",
    "        continue                # In this case, it does nothing\n",
    "    else:\n",
    "        print('The higher value in the list is: ', 6)\n",
    "    r += 1\n",
    "\n",
    "else:\n",
    "    print('This loop terminates naturally')"
   ]
  },
  {
   "cell_type": "markdown",
   "metadata": {},
   "source": [
    "The body of a compound statement cannot be empty, it must always contain at least one statement. You can use a `__pass__` statement, which performs no action, as an explicit placeholder when a statement is syntactically required but you have nothing to do."
   ]
  },
  {
   "cell_type": "markdown",
   "metadata": {},
   "source": [
    "## __Functions__\n",
    "\n",
    "A __function__ is a group of statements that execute upon request. A request to execute a function is known as a _function call_. There are many advantages of using functions: clarity, readability and code reusability, all improve when you avoid having any substantial chunks of module-level code.\n",
    "\n",
    "Functions can receive arguments that specify data upon which the function performs its computation. \n",
    "\n",
    "In Python, a function always returns a result: either None or a value, the result of the computation. Functions are treated as objects (values) in Python, which means that like any other object, can be bound to a variable, can be an item in a container, and can be an attribute of an object. Functions can also be keys in a dictionary. \n",
    "\n",
    "### Defining Functions: The __def__ statement\n",
    "\n",
    "The __def__ statement is a single-clause compound statement used to create a function. It's syntax is:\n"
   ]
  },
  {
   "cell_type": "code",
   "execution_count": 1,
   "metadata": {},
   "outputs": [],
   "source": [
    "def function_name(parameters): \n",
    "    Statemens(s)"
   ]
  },
  {
   "cell_type": "markdown",
   "metadata": {},
   "source": [
    "function_name is an identifier, and the non-empty indented statement(s) are the function body. When the interpreter encounters a __def__ statement, it compiles the function body, hence creating a function object. \n",
    "\n",
    "*parameters* is an optional list specifying the identifiers that will be bound to values that each function call provides. We have to distinguish between parameters and *arguments*, the latter are the values provided for the parameters in function calls. \n",
    "\n",
    "The function's *signature* defines how you call the function, and it includes the number of parameters of it, together with the parameters' names, the number of mandatory parameters, and the information on whether and where unmatched arguments should be collected. \n",
    "\n",
    "### Parameters\n",
    "\n",
    "Better known as Formal parameters, name the values passed into a function call, and may specify default values for them. Each time you call the function, the call binds each parameter name to the corresponding argument value in a new local namespace, which Python later destroys on function exit.\n",
    "\n",
    "For example, considers this function from the _random_ module: "
   ]
  },
  {
   "cell_type": "code",
   "execution_count": 4,
   "metadata": {},
   "outputs": [],
   "source": [
    "def sample(population, k, *, counts = None):\n",
    "        pass         "
   ]
  },
  {
   "cell_type": "markdown",
   "metadata": {},
   "source": [
    "When calling a sample, values for population and k are mandatory, and may be passed positionally or by name. Counts are optional; if you do pass it, you must pass it as a named argument.\n",
    "\n",
    "Generally speaking, positional parameters are followed by named parameters, with the positional and named argument collectors (if present) last. The positional-only marker; however, may appear at any position in the list of parameters. \n",
    "\n",
    "### Attributes of Function objects\n",
    "\n",
    "The __def__ statement sets some attributes of a function object *f*: \n",
    "\n",
    "f.__name__ is the identifier that def uses as the function's name. It can be reminded to any string value.\n",
    "\n",
    "f.__defaults__ is the tuple of default values for named parameters.\n",
    "\n",
    "f.__doc__ (__Docstrings__), called *documentation string*, is the function's attribute you may use to explain what a function does and it's parameters. Docstrings can span multiple physical lines, so it's best to specify them in triple-quoted string literal forms.\n"
   ]
  },
  {
   "cell_type": "code",
   "execution_count": 6,
   "metadata": {},
   "outputs": [],
   "source": [
    "def sum_sequence (*numbers):\n",
    "    \"\"\"Return the sum of multiple numerical arguments.\n",
    "    \n",
    "    The arguments are zero or more numbers. \n",
    "    The result is their sum.\n",
    "    \"\"\"\n",
    "    return sum(numbers)"
   ]
  },
  {
   "cell_type": "markdown",
   "metadata": {},
   "source": [
    "### Function Annotations\n",
    "\n",
    "_Annotations_ are expressions used either to annotate a parameter or the return value of the function. The Annotations attribute of the function object is a dict mapping each annotated identifier to the respective annotation. \n"
   ]
  },
  {
   "cell_type": "code",
   "execution_count": 7,
   "metadata": {},
   "outputs": [],
   "source": [
    "def f( a : 'foo' , b ) -> 'bar' : pass"
   ]
  },
  {
   "cell_type": "markdown",
   "metadata": {},
   "source": [
    "Annotations do not perform any operation; however, this optional step helps us remember useful information during development and maintenance of the code. These tools are useful to identify and locate data type mismatched in functions arguments and return values. \n",
    "\n",
    "Annotations can be made on every def's parameter list, but you can alternatively use the form *identifier: expression, and the expression's value becomes the annotation for that parameter. "
   ]
  },
  {
   "cell_type": "code",
   "execution_count": 9,
   "metadata": {},
   "outputs": [
    {
     "data": {
      "text/plain": [
       "{'a': 'foo', 'return': 'bar'}"
      ]
     },
     "execution_count": 9,
     "metadata": {},
     "output_type": "execute_result"
    }
   ],
   "source": [
    "f.__annotations__\n",
    "{ 'a' : 'foo', 'return': 'bar' }"
   ]
  },
  {
   "cell_type": "markdown",
   "metadata": {},
   "source": [
    "### The return Statement\n",
    "\n",
    "You can use the __return__ keyword in Python only inside a function body, and you can optionally follow it with an expression. When returns executes, the function terminates, and the value of the expression is the function result. \n",
    "\n",
    "A function returns __None__ when it terminates by reaching the end of it's body, or by executing a return Statement with no expression (or by explicitly executing return None). *Never* write a return statement without an expression at the end of a function body. Return None should only ever be written when no expression is expected.\n",
    "\n",
    "It's recommended to explicitly indicate positional and named arguments. When *keyword-only parameters* are presented, they must be passed as named parameters.\n"
   ]
  },
  {
   "cell_type": "markdown",
   "metadata": {},
   "source": [
    "### Lambda Expressions\n",
    "\n",
    "A __lambda__ expression is the anonymous equivalent of a normal function whose body is a single return statement. This form is optional to the def / return couple. The lambda syntax does not include the return keyword. \n",
    "\n",
    "__lambda__ parameters: expression\n",
    "\n",
    "This form can sometimes be handy when you want to use an extremely simple function as an argument or return value.\n"
   ]
  },
  {
   "cell_type": "code",
   "execution_count": 10,
   "metadata": {},
   "outputs": [
    {
     "data": {
      "text/plain": [
       "[0, -1, 1, -2, 2]"
      ]
     },
     "execution_count": 10,
     "metadata": {},
     "output_type": "execute_result"
    }
   ],
   "source": [
    "a_list = [ -2, -1, 0, 1, 2 ]\n",
    "\n",
    "sorted(a_list, key = lambda x: x * x)       # returns: [0, -1, 1, -2, 2]\n"
   ]
  },
  {
   "cell_type": "markdown",
   "metadata": {},
   "source": [
    "While __lambda__ can at times be handy, __def__ is usually better: it's more general and helps you make your code more readable, since you can choose a clear name for the function.\n",
    "\n",
    "Python's world is gigantic! I've covered here the basics you need to know as a data scientist using Python; however, I can not strengthen enough the importance of reading the official documentation available at  https://docs.python.org/3/ . Please feel free to take a look whenever needed. "
   ]
  },
  {
   "cell_type": "markdown",
   "metadata": {},
   "source": [
    "## __Python Ecosystem__\n",
    "\n",
    "The Python ecosystem of libraries, frameworks, and tools is enormous and growing. Python is used for web scraping, data analysis, web development, internet of things development (IoT), machine learning, DevOps, general scientific computing, and many other computing and scripting uses. The main libraries I'll be exploring in this study material are:\n",
    "\n",
    "_Pandas:_ For data analysis.\n",
    "_Matplotlib:_ foundational library for visualization. <br>\n",
    "_Numpy:_ The numeric library that serves as the fundation of all calculation in Python. <br>\n",
    "_Seaborn:_ A statistical visualization tool built on top of matplotlib. <br>\n",
    "_Statsmodel:_ A library with many advanced statistical functions. <br>\n",
    "_Scipy:_ Advanced scientific computing, including functions for optimization, linear algebra, image processing and more. <br>\n",
    "_Scikit-Learn:_ The most popular machine learning library for python (not deep learning) <br>\n",
    "\n",
    "Among many other tools for specific use-cases."
   ]
  },
  {
   "cell_type": "markdown",
   "metadata": {},
   "source": [
    "## __Summary__\n",
    "\n",
    "Python is a great tool for learning (and doing) data science because it's free, simple to write and understand, it interacts well with other programming languages, it's Object Oriented, and it has has lots of useful data science–related libraries. In Python, any Data value is considered an _object_. There are six types of built-in types in Python: numbers, strings, lists, tuples, dictionaries, and sets.\n",
    "\n",
    "Control Flow Statements are those who regulate the order in which the program’s code executes. The main control flow statement structures are conditional statements, loops, and functions. \n",
    "\n",
    "A function is a group of statements that execute upon request. There are many advantages of using functions: clarity, readability and code reusability, all improve when you avoid having any substantial chunks of module-level code.\n",
    "\n",
    "The Python Ecosystem is huge because there are libraries for almost any action you need. "
   ]
  }
 ],
 "metadata": {
  "kernelspec": {
   "display_name": "base",
   "language": "python",
   "name": "python3"
  },
  "language_info": {
   "codemirror_mode": {
    "name": "ipython",
    "version": 3
   },
   "file_extension": ".py",
   "mimetype": "text/x-python",
   "name": "python",
   "nbconvert_exporter": "python",
   "pygments_lexer": "ipython3",
   "version": "3.9.13"
  },
  "orig_nbformat": 4
 },
 "nbformat": 4,
 "nbformat_minor": 2
}
